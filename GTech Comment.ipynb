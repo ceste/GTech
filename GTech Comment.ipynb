{
 "cells": [
  {
   "cell_type": "code",
   "execution_count": 1,
   "metadata": {},
   "outputs": [
    {
     "name": "stderr",
     "output_type": "stream",
     "text": [
      "[nltk_data] Downloading package stopwords to /home/cst/nltk_data...\n",
      "[nltk_data]   Package stopwords is already up-to-date!\n",
      "[nltk_data] Downloading package punkt to /home/cst/nltk_data...\n",
      "[nltk_data]   Package punkt is already up-to-date!\n",
      "[nltk_data] Downloading package wordnet to /home/cst/nltk_data...\n",
      "[nltk_data]   Package wordnet is already up-to-date!\n",
      "Using TensorFlow backend.\n"
     ]
    }
   ],
   "source": [
    "import os\n",
    "import pandas as pd\n",
    "import numpy as np\n",
    "import matplotlib.pyplot as plt\n",
    "%matplotlib inline\n",
    "import seaborn as sns\n",
    "import re\n",
    "import nltk\n",
    "import string\n",
    "from collections import Counter\n",
    "\n",
    "from nltk.stem import WordNetLemmatizer\n",
    "nltk.download('stopwords')\n",
    "nltk.download('punkt')\n",
    "nltk.download('wordnet')\n",
    "\n",
    "from pprint import pprint\n",
    "import pickle\n",
    "from nltk.corpus import stopwords\n",
    "\n",
    "from sklearn.preprocessing import LabelEncoder\n",
    "from sklearn.model_selection import train_test_split\n",
    "from sklearn.feature_extraction.text import TfidfVectorizer\n",
    "from sklearn.feature_extraction.text import TfidfTransformer\n",
    "from sklearn.feature_extraction.text import CountVectorizer\n",
    "from sklearn.feature_selection import chi2\n",
    "from sklearn.ensemble import RandomForestClassifier\n",
    "from sklearn.metrics import confusion_matrix, roc_curve, roc_auc_score, accuracy_score, f1_score, precision_score, recall_score, classification_report, average_precision_score\n",
    "from sklearn.decomposition import PCA\n",
    "from sklearn.manifold import TSNE\n",
    "\n",
    "import imblearn\n",
    "from imblearn.over_sampling import SMOTE\n",
    "from imblearn.combine import SMOTETomek"
   ]
  },
  {
   "cell_type": "markdown",
   "metadata": {},
   "source": [
    "# Functions"
   ]
  },
  {
   "cell_type": "code",
   "execution_count": 2,
   "metadata": {},
   "outputs": [],
   "source": [
    "def save_as_pickle(filename,obj):    \n",
    "    with open(filename, 'wb') as fp:\n",
    "        pickle.dump(obj, fp, protocol=pickle.HIGHEST_PROTOCOL)\n",
    "    fp.close()"
   ]
  },
  {
   "cell_type": "code",
   "execution_count": 3,
   "metadata": {},
   "outputs": [],
   "source": [
    "if not os.path.exists('comment_data'):\n",
    "    os.makedirs('comment_data')"
   ]
  },
  {
   "cell_type": "code",
   "execution_count": 4,
   "metadata": {},
   "outputs": [],
   "source": [
    "xls = pd.ExcelFile('Comment Spam.xls')\n",
    "data = xls.parse('Data Train')"
   ]
  },
  {
   "cell_type": "code",
   "execution_count": 5,
   "metadata": {},
   "outputs": [
    {
     "data": {
      "text/plain": [
       "(1300, 3)"
      ]
     },
     "execution_count": 5,
     "metadata": {},
     "output_type": "execute_result"
    }
   ],
   "source": [
    "data.shape"
   ]
  },
  {
   "cell_type": "code",
   "execution_count": 6,
   "metadata": {},
   "outputs": [
    {
     "data": {
      "text/html": [
       "<div>\n",
       "<style scoped>\n",
       "    .dataframe tbody tr th:only-of-type {\n",
       "        vertical-align: middle;\n",
       "    }\n",
       "\n",
       "    .dataframe tbody tr th {\n",
       "        vertical-align: top;\n",
       "    }\n",
       "\n",
       "    .dataframe thead th {\n",
       "        text-align: right;\n",
       "    }\n",
       "</style>\n",
       "<table border=\"1\" class=\"dataframe\">\n",
       "  <thead>\n",
       "    <tr style=\"text-align: right;\">\n",
       "      <th></th>\n",
       "      <th>No</th>\n",
       "      <th>Comment</th>\n",
       "      <th>Class</th>\n",
       "    </tr>\n",
       "  </thead>\n",
       "  <tbody>\n",
       "    <tr>\n",
       "      <th>0</th>\n",
       "      <td>1</td>\n",
       "      <td>this song is racist</td>\n",
       "      <td>0</td>\n",
       "    </tr>\n",
       "    <tr>\n",
       "      <th>1</th>\n",
       "      <td>2</td>\n",
       "      <td>and how many subscribers compared to her over ...</td>\n",
       "      <td>1</td>\n",
       "    </tr>\n",
       "    <tr>\n",
       "      <th>2</th>\n",
       "      <td>3</td>\n",
       "      <td>HI! CHECK OUT OUR AWESOME COVERS! AND SAY WHAT...</td>\n",
       "      <td>1</td>\n",
       "    </tr>\n",
       "    <tr>\n",
       "      <th>3</th>\n",
       "      <td>4</td>\n",
       "      <td>well done shakira</td>\n",
       "      <td>0</td>\n",
       "    </tr>\n",
       "    <tr>\n",
       "      <th>4</th>\n",
       "      <td>5</td>\n",
       "      <td>:D subscribe to me for daily vines</td>\n",
       "      <td>1</td>\n",
       "    </tr>\n",
       "  </tbody>\n",
       "</table>\n",
       "</div>"
      ],
      "text/plain": [
       "   No                                            Comment  Class\n",
       "0   1                                this song is racist      0\n",
       "1   2  and how many subscribers compared to her over ...      1\n",
       "2   3  HI! CHECK OUT OUR AWESOME COVERS! AND SAY WHAT...      1\n",
       "3   4                                  well done shakira      0\n",
       "4   5                 :D subscribe to me for daily vines      1"
      ]
     },
     "execution_count": 6,
     "metadata": {},
     "output_type": "execute_result"
    }
   ],
   "source": [
    "data.head()"
   ]
  },
  {
   "cell_type": "code",
   "execution_count": 7,
   "metadata": {},
   "outputs": [
    {
     "data": {
      "text/plain": [
       "No         0\n",
       "Comment    0\n",
       "Class      0\n",
       "dtype: int64"
      ]
     },
     "execution_count": 7,
     "metadata": {},
     "output_type": "execute_result"
    }
   ],
   "source": [
    "data.isnull().sum()"
   ]
  },
  {
   "cell_type": "markdown",
   "metadata": {},
   "source": [
    "<b>No missing data</b>"
   ]
  },
  {
   "cell_type": "code",
   "execution_count": 8,
   "metadata": {},
   "outputs": [
    {
     "data": {
      "text/plain": [
       "1    669\n",
       "0    631\n",
       "Name: Class, dtype: int64"
      ]
     },
     "execution_count": 8,
     "metadata": {},
     "output_type": "execute_result"
    }
   ],
   "source": [
    "data['Class'].value_counts()"
   ]
  },
  {
   "cell_type": "code",
   "execution_count": 9,
   "metadata": {},
   "outputs": [
    {
     "data": {
      "text/plain": [
       "1    0.514615\n",
       "0    0.485385\n",
       "Name: Class, dtype: float64"
      ]
     },
     "execution_count": 9,
     "metadata": {},
     "output_type": "execute_result"
    }
   ],
   "source": [
    "data['Class'].value_counts(normalize=True)"
   ]
  },
  {
   "cell_type": "markdown",
   "metadata": {},
   "source": [
    "<b>No issue with imbalance data.</b>"
   ]
  },
  {
   "cell_type": "code",
   "execution_count": 10,
   "metadata": {},
   "outputs": [],
   "source": [
    "data['characters_length'] = data['Comment'].str.len()"
   ]
  },
  {
   "cell_type": "code",
   "execution_count": 11,
   "metadata": {},
   "outputs": [
    {
     "data": {
      "text/html": [
       "<div>\n",
       "<style scoped>\n",
       "    .dataframe tbody tr th:only-of-type {\n",
       "        vertical-align: middle;\n",
       "    }\n",
       "\n",
       "    .dataframe tbody tr th {\n",
       "        vertical-align: top;\n",
       "    }\n",
       "\n",
       "    .dataframe thead th {\n",
       "        text-align: right;\n",
       "    }\n",
       "</style>\n",
       "<table border=\"1\" class=\"dataframe\">\n",
       "  <thead>\n",
       "    <tr style=\"text-align: right;\">\n",
       "      <th></th>\n",
       "      <th>No</th>\n",
       "      <th>Comment</th>\n",
       "      <th>Class</th>\n",
       "      <th>characters_length</th>\n",
       "    </tr>\n",
       "  </thead>\n",
       "  <tbody>\n",
       "    <tr>\n",
       "      <th>0</th>\n",
       "      <td>1</td>\n",
       "      <td>this song is racist</td>\n",
       "      <td>0</td>\n",
       "      <td>19</td>\n",
       "    </tr>\n",
       "    <tr>\n",
       "      <th>1</th>\n",
       "      <td>2</td>\n",
       "      <td>and how many subscribers compared to her over ...</td>\n",
       "      <td>1</td>\n",
       "      <td>55</td>\n",
       "    </tr>\n",
       "    <tr>\n",
       "      <th>2</th>\n",
       "      <td>3</td>\n",
       "      <td>HI! CHECK OUT OUR AWESOME COVERS! AND SAY WHAT...</td>\n",
       "      <td>1</td>\n",
       "      <td>57</td>\n",
       "    </tr>\n",
       "    <tr>\n",
       "      <th>3</th>\n",
       "      <td>4</td>\n",
       "      <td>well done shakira</td>\n",
       "      <td>0</td>\n",
       "      <td>17</td>\n",
       "    </tr>\n",
       "    <tr>\n",
       "      <th>4</th>\n",
       "      <td>5</td>\n",
       "      <td>:D subscribe to me for daily vines</td>\n",
       "      <td>1</td>\n",
       "      <td>34</td>\n",
       "    </tr>\n",
       "  </tbody>\n",
       "</table>\n",
       "</div>"
      ],
      "text/plain": [
       "   No                                            Comment  Class  \\\n",
       "0   1                                this song is racist      0   \n",
       "1   2  and how many subscribers compared to her over ...      1   \n",
       "2   3  HI! CHECK OUT OUR AWESOME COVERS! AND SAY WHAT...      1   \n",
       "3   4                                  well done shakira      0   \n",
       "4   5                 :D subscribe to me for daily vines      1   \n",
       "\n",
       "   characters_length  \n",
       "0                 19  \n",
       "1                 55  \n",
       "2                 57  \n",
       "3                 17  \n",
       "4                 34  "
      ]
     },
     "execution_count": 11,
     "metadata": {},
     "output_type": "execute_result"
    }
   ],
   "source": [
    "data.head()"
   ]
  },
  {
   "cell_type": "code",
   "execution_count": 12,
   "metadata": {},
   "outputs": [
    {
     "data": {
      "image/png": "[encoded data removed]",
      "text/plain": [
       "<Figure size 921.6x432 with 1 Axes>"
      ]
     },
     "metadata": {
      "needs_background": "light"
     },
     "output_type": "display_data"
    }
   ],
   "source": [
    "plt.figure(figsize=(12.8,6))\n",
    "sns.distplot(data['characters_length']).set_title('Characters Length Distribution');"
   ]
  },
  {
   "cell_type": "markdown",
   "metadata": {},
   "source": [
    "<b>Characters length is skewed.</b>"
   ]
  },
  {
   "cell_type": "code",
   "execution_count": 13,
   "metadata": {},
   "outputs": [
    {
     "data": {
      "image/png": "[encoded data removed]",
      "text/plain": [
       "<Figure size 921.6x432 with 1 Axes>"
      ]
     },
     "metadata": {
      "needs_background": "light"
     },
     "output_type": "display_data"
    }
   ],
   "source": [
    "plt.figure(figsize=(12.8,6))\n",
    "sns.distplot(data[data['characters_length']<np.quantile(data['characters_length'],0.95)]['characters_length']).set_title('Characters Length Distribution < 95th Percentile');"
   ]
  },
  {
   "cell_type": "code",
   "execution_count": 14,
   "metadata": {},
   "outputs": [
    {
     "name": "stdout",
     "output_type": "stream",
     "text": [
      "0.95\n",
      "0.05\n"
     ]
    }
   ],
   "source": [
    "print(data[data['characters_length'] <= np.quantile(data['characters_length'],0.95)].shape[0]/data.shape[0])\n",
    "print(data[data['characters_length'] > np.quantile(data['characters_length'],0.95)].shape[0]/data.shape[0])"
   ]
  },
  {
   "cell_type": "code",
   "execution_count": 15,
   "metadata": {},
   "outputs": [
    {
     "data": {
      "image/png": "[encoded data removed]",
      "text/plain": [
       "<Figure size 921.6x432 with 1 Axes>"
      ]
     },
     "metadata": {
      "needs_background": "light"
     },
     "output_type": "display_data"
    }
   ],
   "source": [
    "plt.figure(figsize=(12.8,6))\n",
    "sns.distplot(data[data['characters_length']<np.quantile(data['characters_length'],0.75)]['characters_length']).set_title('Characters Length Distribution < 75th Percentile');"
   ]
  },
  {
   "cell_type": "code",
   "execution_count": 16,
   "metadata": {},
   "outputs": [
    {
     "name": "stdout",
     "output_type": "stream",
     "text": [
      "0.7507692307692307\n",
      "0.24923076923076923\n"
     ]
    }
   ],
   "source": [
    "print(data[data['characters_length'] <= np.quantile(data['characters_length'],0.75)].shape[0]/data.shape[0])\n",
    "print(data[data['characters_length'] > np.quantile(data['characters_length'],0.75)].shape[0]/data.shape[0])"
   ]
  },
  {
   "cell_type": "code",
   "execution_count": 17,
   "metadata": {},
   "outputs": [
    {
     "data": {
      "image/png": "[encoded data removed]",
      "text/plain": [
       "<Figure size 921.6x432 with 1 Axes>"
      ]
     },
     "metadata": {
      "needs_background": "light"
     },
     "output_type": "display_data"
    }
   ],
   "source": [
    "plt.figure(figsize=(12.8,6))\n",
    "sns.boxplot(data=data, x='Class', y='characters_length', width=.5);"
   ]
  },
  {
   "cell_type": "markdown",
   "metadata": {},
   "source": [
    "<b>Biggest outliers are in `Technology` and `Entertainment` categories.</b>"
   ]
  },
  {
   "cell_type": "code",
   "execution_count": 18,
   "metadata": {},
   "outputs": [
    {
     "data": {
      "image/png": "[encoded data removed]",
      "text/plain": [
       "<Figure size 921.6x432 with 1 Axes>"
      ]
     },
     "metadata": {
      "needs_background": "light"
     },
     "output_type": "display_data"
    }
   ],
   "source": [
    "plt.figure(figsize=(12.8,6))\n",
    "sns.boxplot(data=data[data['characters_length']<np.quantile(data['characters_length'],0.75)], x='Class', y='characters_length');"
   ]
  },
  {
   "cell_type": "markdown",
   "metadata": {},
   "source": [
    "<b>It seems that `Characters Length` does not affecting `Category`. Data looks normal if the outliers data is not included</b>"
   ]
  },
  {
   "cell_type": "code",
   "execution_count": 19,
   "metadata": {},
   "outputs": [
    {
     "data": {
      "text/plain": [
       "[('the', 436),\n",
       " ('and', 408),\n",
       " ('to', 397),\n",
       " ('I', 394),\n",
       " ('this', 392),\n",
       " ('a', 323),\n",
       " ('out', 300),\n",
       " ('my', 298),\n",
       " ('on', 246),\n",
       " ('you', 237)]"
      ]
     },
     "execution_count": 19,
     "metadata": {},
     "output_type": "execute_result"
    }
   ],
   "source": [
    "Counter(\" \".join(data[\"Comment\"]).split()).most_common(10)"
   ]
  },
  {
   "cell_type": "code",
   "execution_count": 20,
   "metadata": {},
   "outputs": [
    {
     "data": {
      "text/plain": [
       "[('the', 158),\n",
       " ('this', 139),\n",
       " ('I', 136),\n",
       " ('is', 132),\n",
       " ('and', 87),\n",
       " ('to', 86),\n",
       " ('song', 78),\n",
       " ('love', 64),\n",
       " ('of', 62),\n",
       " ('a', 62)]"
      ]
     },
     "execution_count": 20,
     "metadata": {},
     "output_type": "execute_result"
    }
   ],
   "source": [
    "Counter(\" \".join(data[data['Class']==0][\"Comment\"]).split()).most_common(10)"
   ]
  },
  {
   "cell_type": "code",
   "execution_count": 21,
   "metadata": {},
   "outputs": [
    {
     "data": {
      "text/plain": [
       "[('and', 321),\n",
       " ('to', 311),\n",
       " ('out', 293),\n",
       " ('the', 278),\n",
       " ('my', 269),\n",
       " ('a', 261),\n",
       " ('I', 258),\n",
       " ('this', 253),\n",
       " ('on', 218),\n",
       " ('you', 201)]"
      ]
     },
     "execution_count": 21,
     "metadata": {},
     "output_type": "execute_result"
    }
   ],
   "source": [
    "Counter(\" \".join(data[data['Class']==1][\"Comment\"]).split()).most_common(10)"
   ]
  },
  {
   "cell_type": "markdown",
   "metadata": {},
   "source": [
    "<b>Many irrelevant words dominating the most frequent appear words and it spread out across categories. Data cleansing should be able to handle this situation.</b>"
   ]
  },
  {
   "cell_type": "markdown",
   "metadata": {},
   "source": [
    "# Summary\n",
    "\n",
    "1. No missing data.\n",
    "2. No data imbalance issue\n",
    "3. `Characters Length` seems impact the Class disribution a bit.\n",
    "4. Many irrelevant words dominating the most frequent appear words and it spread out across class."
   ]
  },
  {
   "cell_type": "markdown",
   "metadata": {},
   "source": [
    "# Data Preparation "
   ]
  },
  {
   "cell_type": "code",
   "execution_count": 22,
   "metadata": {},
   "outputs": [
    {
     "data": {
      "text/plain": [
       "['No', 'Comment', 'characters_length']"
      ]
     },
     "execution_count": 22,
     "metadata": {},
     "output_type": "execute_result"
    }
   ],
   "source": [
    "target = 'Class'\n",
    "features = [item for item in data.columns if item!=target]\n",
    "features"
   ]
  },
  {
   "cell_type": "code",
   "execution_count": 23,
   "metadata": {},
   "outputs": [],
   "source": [
    "X_train, X_test, y_train, y_test = train_test_split(data[features], \n",
    "                                                    data[target], \n",
    "                                                    test_size=0.2, \n",
    "                                                    random_state=42)"
   ]
  },
  {
   "cell_type": "code",
   "execution_count": 24,
   "metadata": {},
   "outputs": [],
   "source": [
    "# pd.concat([X_train, y_train], axis=1).to_csv('comment_data/train.csv')\n",
    "# pd.concat([X_test, y_test], axis=1).to_csv('comment_data/valid.csv')"
   ]
  },
  {
   "cell_type": "markdown",
   "metadata": {},
   "source": [
    "# Text cleaning"
   ]
  },
  {
   "cell_type": "code",
   "execution_count": 25,
   "metadata": {},
   "outputs": [
    {
     "data": {
      "text/html": [
       "<div>\n",
       "<style scoped>\n",
       "    .dataframe tbody tr th:only-of-type {\n",
       "        vertical-align: middle;\n",
       "    }\n",
       "\n",
       "    .dataframe tbody tr th {\n",
       "        vertical-align: top;\n",
       "    }\n",
       "\n",
       "    .dataframe thead th {\n",
       "        text-align: right;\n",
       "    }\n",
       "</style>\n",
       "<table border=\"1\" class=\"dataframe\">\n",
       "  <thead>\n",
       "    <tr style=\"text-align: right;\">\n",
       "      <th></th>\n",
       "      <th>No</th>\n",
       "      <th>Comment</th>\n",
       "      <th>characters_length</th>\n",
       "    </tr>\n",
       "  </thead>\n",
       "  <tbody>\n",
       "    <tr>\n",
       "      <th>10</th>\n",
       "      <td>11</td>\n",
       "      <td>I hope everyone is in good spirits I&amp;#39;m a h...</td>\n",
       "      <td>507</td>\n",
       "    </tr>\n",
       "    <tr>\n",
       "      <th>147</th>\n",
       "      <td>148</td>\n",
       "      <td>Hello Guys...I Found a Way to Make Money Onlin...</td>\n",
       "      <td>498</td>\n",
       "    </tr>\n",
       "    <tr>\n",
       "      <th>342</th>\n",
       "      <td>343</td>\n",
       "      <td>This video will get to 2 billion just because ...</td>\n",
       "      <td>95</td>\n",
       "    </tr>\n",
       "    <tr>\n",
       "      <th>999</th>\n",
       "      <td>1000</td>\n",
       "      <td>OMG that looks just like a piece of the mirror...</td>\n",
       "      <td>127</td>\n",
       "    </tr>\n",
       "    <tr>\n",
       "      <th>811</th>\n",
       "      <td>812</td>\n",
       "      <td>Check out this video on YouTube:﻿</td>\n",
       "      <td>33</td>\n",
       "    </tr>\n",
       "  </tbody>\n",
       "</table>\n",
       "</div>"
      ],
      "text/plain": [
       "       No                                            Comment  \\\n",
       "10     11  I hope everyone is in good spirits I&#39;m a h...   \n",
       "147   148  Hello Guys...I Found a Way to Make Money Onlin...   \n",
       "342   343  This video will get to 2 billion just because ...   \n",
       "999  1000  OMG that looks just like a piece of the mirror...   \n",
       "811   812                  Check out this video on YouTube:﻿   \n",
       "\n",
       "     characters_length  \n",
       "10                 507  \n",
       "147                498  \n",
       "342                 95  \n",
       "999                127  \n",
       "811                 33  "
      ]
     },
     "execution_count": 25,
     "metadata": {},
     "output_type": "execute_result"
    }
   ],
   "source": [
    "X_train.head()"
   ]
  },
  {
   "cell_type": "code",
   "execution_count": 26,
   "metadata": {},
   "outputs": [],
   "source": [
    "special_characters = string.punctuation\n",
    "\n",
    "def strip_character(dataCol):\n",
    "    r = re.compile(r'[^a-zA-Z !@#$%&*_+-=|\\:\";<>,./()[\\]{}\\']')\n",
    "    return r.sub('', dataCol)\n",
    "\n",
    "def remove_numbers(dataCol):\n",
    "    return re.sub(r'\\d+', '', dataCol)\n",
    "\n",
    "def remove_non_words(dataCol):\n",
    "    return re.sub(r\"\\W\", \" \", dataCol, flags=re.I)\n",
    "\n",
    "def remove_single_character(dataCol):\n",
    "    return re.sub(r\"\\s+[a-zA-Z]\\s+\", \" \", dataCol)"
   ]
  },
  {
   "cell_type": "code",
   "execution_count": 27,
   "metadata": {},
   "outputs": [],
   "source": [
    "def remove_possesive_pronouns(data):\n",
    "    # Remove possesive pronouns first\n",
    "    data['Content_Parsed_1'] = data['Comment'].str.replace(\"'s\", \"\")\n",
    "    data['Content_Parsed_1'] = data['Content_Parsed_1'].str.replace(\"$\", \" money \")\n",
    "    \n",
    "    return data\n",
    "\n",
    "X_train = remove_possesive_pronouns(X_train)\n",
    "X_test = remove_possesive_pronouns(X_test)"
   ]
  },
  {
   "cell_type": "code",
   "execution_count": 28,
   "metadata": {},
   "outputs": [
    {
     "data": {
      "text/html": [
       "<div>\n",
       "<style scoped>\n",
       "    .dataframe tbody tr th:only-of-type {\n",
       "        vertical-align: middle;\n",
       "    }\n",
       "\n",
       "    .dataframe tbody tr th {\n",
       "        vertical-align: top;\n",
       "    }\n",
       "\n",
       "    .dataframe thead th {\n",
       "        text-align: right;\n",
       "    }\n",
       "</style>\n",
       "<table border=\"1\" class=\"dataframe\">\n",
       "  <thead>\n",
       "    <tr style=\"text-align: right;\">\n",
       "      <th></th>\n",
       "      <th>No</th>\n",
       "      <th>Comment</th>\n",
       "      <th>characters_length</th>\n",
       "      <th>Content_Parsed_1</th>\n",
       "    </tr>\n",
       "  </thead>\n",
       "  <tbody>\n",
       "    <tr>\n",
       "      <th>10</th>\n",
       "      <td>11</td>\n",
       "      <td>I hope everyone is in good spirits I&amp;#39;m a h...</td>\n",
       "      <td>507</td>\n",
       "      <td>I hope everyone is in good spirits I&amp;#39;m a h...</td>\n",
       "    </tr>\n",
       "    <tr>\n",
       "      <th>147</th>\n",
       "      <td>148</td>\n",
       "      <td>Hello Guys...I Found a Way to Make Money Onlin...</td>\n",
       "      <td>498</td>\n",
       "      <td>Hello Guys...I Found a Way to Make Money Onlin...</td>\n",
       "    </tr>\n",
       "    <tr>\n",
       "      <th>342</th>\n",
       "      <td>343</td>\n",
       "      <td>This video will get to 2 billion just because ...</td>\n",
       "      <td>95</td>\n",
       "      <td>This video will get to 2 billion just because ...</td>\n",
       "    </tr>\n",
       "    <tr>\n",
       "      <th>999</th>\n",
       "      <td>1000</td>\n",
       "      <td>OMG that looks just like a piece of the mirror...</td>\n",
       "      <td>127</td>\n",
       "      <td>OMG that looks just like a piece of the mirror...</td>\n",
       "    </tr>\n",
       "    <tr>\n",
       "      <th>811</th>\n",
       "      <td>812</td>\n",
       "      <td>Check out this video on YouTube:﻿</td>\n",
       "      <td>33</td>\n",
       "      <td>Check out this video on YouTube:﻿</td>\n",
       "    </tr>\n",
       "  </tbody>\n",
       "</table>\n",
       "</div>"
      ],
      "text/plain": [
       "       No                                            Comment  \\\n",
       "10     11  I hope everyone is in good spirits I&#39;m a h...   \n",
       "147   148  Hello Guys...I Found a Way to Make Money Onlin...   \n",
       "342   343  This video will get to 2 billion just because ...   \n",
       "999  1000  OMG that looks just like a piece of the mirror...   \n",
       "811   812                  Check out this video on YouTube:﻿   \n",
       "\n",
       "     characters_length                                   Content_Parsed_1  \n",
       "10                 507  I hope everyone is in good spirits I&#39;m a h...  \n",
       "147                498  Hello Guys...I Found a Way to Make Money Onlin...  \n",
       "342                 95  This video will get to 2 billion just because ...  \n",
       "999                127  OMG that looks just like a piece of the mirror...  \n",
       "811                 33                  Check out this video on YouTube:﻿  "
      ]
     },
     "execution_count": 28,
     "metadata": {},
     "output_type": "execute_result"
    }
   ],
   "source": [
    "X_train.head()"
   ]
  },
  {
   "cell_type": "code",
   "execution_count": 29,
   "metadata": {},
   "outputs": [],
   "source": [
    "def remove_special_characters(data):\n",
    "    # Remove special characters\n",
    "    data['Content_Parsed_2'] = data['Content_Parsed_1'].str.replace(\"\\t\", \" \")\n",
    "    data['Content_Parsed_2'] = data['Content_Parsed_2'].str.replace(\"\\n\", \" \")\n",
    "    data['Content_Parsed_2'] = data['Content_Parsed_2'].str.replace('\"', '')\n",
    "    data['Content_Parsed_2'] = data['Content_Parsed_2'].apply(strip_character)\n",
    "    data['Content_Parsed_2'] = data['Content_Parsed_2'].apply(remove_numbers)\n",
    "    data['Content_Parsed_2'] = data['Content_Parsed_2'].apply(remove_non_words)\n",
    "    data['Content_Parsed_2'] = data['Content_Parsed_2'].apply(remove_single_character)\n",
    "    \n",
    "    return data\n",
    "\n",
    "X_train = remove_special_characters(X_train)\n",
    "X_test = remove_special_characters(X_test)"
   ]
  },
  {
   "cell_type": "code",
   "execution_count": 30,
   "metadata": {},
   "outputs": [
    {
     "data": {
      "text/html": [
       "<div>\n",
       "<style scoped>\n",
       "    .dataframe tbody tr th:only-of-type {\n",
       "        vertical-align: middle;\n",
       "    }\n",
       "\n",
       "    .dataframe tbody tr th {\n",
       "        vertical-align: top;\n",
       "    }\n",
       "\n",
       "    .dataframe thead th {\n",
       "        text-align: right;\n",
       "    }\n",
       "</style>\n",
       "<table border=\"1\" class=\"dataframe\">\n",
       "  <thead>\n",
       "    <tr style=\"text-align: right;\">\n",
       "      <th></th>\n",
       "      <th>No</th>\n",
       "      <th>Comment</th>\n",
       "      <th>characters_length</th>\n",
       "      <th>Content_Parsed_1</th>\n",
       "      <th>Content_Parsed_2</th>\n",
       "    </tr>\n",
       "  </thead>\n",
       "  <tbody>\n",
       "    <tr>\n",
       "      <th>10</th>\n",
       "      <td>11</td>\n",
       "      <td>I hope everyone is in good spirits I&amp;#39;m a h...</td>\n",
       "      <td>507</td>\n",
       "      <td>I hope everyone is in good spirits I&amp;#39;m a h...</td>\n",
       "      <td>I hope everyone is in good spirits m hard work...</td>\n",
       "    </tr>\n",
       "    <tr>\n",
       "      <th>147</th>\n",
       "      <td>148</td>\n",
       "      <td>Hello Guys...I Found a Way to Make Money Onlin...</td>\n",
       "      <td>498</td>\n",
       "      <td>Hello Guys...I Found a Way to Make Money Onlin...</td>\n",
       "      <td>Hello Guys Found Way to Make Money Online You ...</td>\n",
       "    </tr>\n",
       "    <tr>\n",
       "      <th>342</th>\n",
       "      <td>343</td>\n",
       "      <td>This video will get to 2 billion just because ...</td>\n",
       "      <td>95</td>\n",
       "      <td>This video will get to 2 billion just because ...</td>\n",
       "      <td>This video will get to  billion just because o...</td>\n",
       "    </tr>\n",
       "    <tr>\n",
       "      <th>999</th>\n",
       "      <td>1000</td>\n",
       "      <td>OMG that looks just like a piece of the mirror...</td>\n",
       "      <td>127</td>\n",
       "      <td>OMG that looks just like a piece of the mirror...</td>\n",
       "      <td>OMG that looks just like piece of the mirror o...</td>\n",
       "    </tr>\n",
       "    <tr>\n",
       "      <th>811</th>\n",
       "      <td>812</td>\n",
       "      <td>Check out this video on YouTube:﻿</td>\n",
       "      <td>33</td>\n",
       "      <td>Check out this video on YouTube:﻿</td>\n",
       "      <td>Check out this video on YouTube</td>\n",
       "    </tr>\n",
       "  </tbody>\n",
       "</table>\n",
       "</div>"
      ],
      "text/plain": [
       "       No                                            Comment  \\\n",
       "10     11  I hope everyone is in good spirits I&#39;m a h...   \n",
       "147   148  Hello Guys...I Found a Way to Make Money Onlin...   \n",
       "342   343  This video will get to 2 billion just because ...   \n",
       "999  1000  OMG that looks just like a piece of the mirror...   \n",
       "811   812                  Check out this video on YouTube:﻿   \n",
       "\n",
       "     characters_length                                   Content_Parsed_1  \\\n",
       "10                 507  I hope everyone is in good spirits I&#39;m a h...   \n",
       "147                498  Hello Guys...I Found a Way to Make Money Onlin...   \n",
       "342                 95  This video will get to 2 billion just because ...   \n",
       "999                127  OMG that looks just like a piece of the mirror...   \n",
       "811                 33                  Check out this video on YouTube:﻿   \n",
       "\n",
       "                                      Content_Parsed_2  \n",
       "10   I hope everyone is in good spirits m hard work...  \n",
       "147  Hello Guys Found Way to Make Money Online You ...  \n",
       "342  This video will get to  billion just because o...  \n",
       "999  OMG that looks just like piece of the mirror o...  \n",
       "811                   Check out this video on YouTube   "
      ]
     },
     "execution_count": 30,
     "metadata": {},
     "output_type": "execute_result"
    }
   ],
   "source": [
    "X_train.head()"
   ]
  },
  {
   "cell_type": "markdown",
   "metadata": {},
   "source": [
    "<b>Some special characters still exist.</b>"
   ]
  },
  {
   "cell_type": "code",
   "execution_count": 31,
   "metadata": {},
   "outputs": [],
   "source": [
    "def remove_special_character_2(data):\n",
    "    \n",
    "    # Remove left special characters    \n",
    "    data['Content_Parsed_3'] = data['Content_Parsed_2']\n",
    "    additional_special_characters = list(\"!”#$%&’()*+,-./:;<=>?@[\\]^_`{|}~\")\n",
    "    for item in additional_special_characters:\n",
    "        data['Content_Parsed_3'] = data['Content_Parsed_3'].str.replace(item, '')\n",
    "    \n",
    "    return data\n",
    "\n",
    "X_train = remove_special_character_2(X_train)\n",
    "X_test = remove_special_character_2(X_test)"
   ]
  },
  {
   "cell_type": "code",
   "execution_count": 32,
   "metadata": {},
   "outputs": [
    {
     "data": {
      "text/html": [
       "<div>\n",
       "<style scoped>\n",
       "    .dataframe tbody tr th:only-of-type {\n",
       "        vertical-align: middle;\n",
       "    }\n",
       "\n",
       "    .dataframe tbody tr th {\n",
       "        vertical-align: top;\n",
       "    }\n",
       "\n",
       "    .dataframe thead th {\n",
       "        text-align: right;\n",
       "    }\n",
       "</style>\n",
       "<table border=\"1\" class=\"dataframe\">\n",
       "  <thead>\n",
       "    <tr style=\"text-align: right;\">\n",
       "      <th></th>\n",
       "      <th>No</th>\n",
       "      <th>Comment</th>\n",
       "      <th>characters_length</th>\n",
       "      <th>Content_Parsed_1</th>\n",
       "      <th>Content_Parsed_2</th>\n",
       "      <th>Content_Parsed_3</th>\n",
       "    </tr>\n",
       "  </thead>\n",
       "  <tbody>\n",
       "    <tr>\n",
       "      <th>10</th>\n",
       "      <td>11</td>\n",
       "      <td>I hope everyone is in good spirits I&amp;#39;m a h...</td>\n",
       "      <td>507</td>\n",
       "      <td>I hope everyone is in good spirits I&amp;#39;m a h...</td>\n",
       "      <td>I hope everyone is in good spirits m hard work...</td>\n",
       "      <td>I hope everyone is in good spirits m hard work...</td>\n",
       "    </tr>\n",
       "    <tr>\n",
       "      <th>147</th>\n",
       "      <td>148</td>\n",
       "      <td>Hello Guys...I Found a Way to Make Money Onlin...</td>\n",
       "      <td>498</td>\n",
       "      <td>Hello Guys...I Found a Way to Make Money Onlin...</td>\n",
       "      <td>Hello Guys Found Way to Make Money Online You ...</td>\n",
       "      <td>Hello Guys Found Way to Make Money Online You ...</td>\n",
       "    </tr>\n",
       "    <tr>\n",
       "      <th>342</th>\n",
       "      <td>343</td>\n",
       "      <td>This video will get to 2 billion just because ...</td>\n",
       "      <td>95</td>\n",
       "      <td>This video will get to 2 billion just because ...</td>\n",
       "      <td>This video will get to  billion just because o...</td>\n",
       "      <td>This video will get to  billion just because o...</td>\n",
       "    </tr>\n",
       "    <tr>\n",
       "      <th>999</th>\n",
       "      <td>1000</td>\n",
       "      <td>OMG that looks just like a piece of the mirror...</td>\n",
       "      <td>127</td>\n",
       "      <td>OMG that looks just like a piece of the mirror...</td>\n",
       "      <td>OMG that looks just like piece of the mirror o...</td>\n",
       "      <td>OMG that looks just like piece of the mirror o...</td>\n",
       "    </tr>\n",
       "    <tr>\n",
       "      <th>811</th>\n",
       "      <td>812</td>\n",
       "      <td>Check out this video on YouTube:﻿</td>\n",
       "      <td>33</td>\n",
       "      <td>Check out this video on YouTube:﻿</td>\n",
       "      <td>Check out this video on YouTube</td>\n",
       "      <td>Check out this video on YouTube</td>\n",
       "    </tr>\n",
       "  </tbody>\n",
       "</table>\n",
       "</div>"
      ],
      "text/plain": [
       "       No                                            Comment  \\\n",
       "10     11  I hope everyone is in good spirits I&#39;m a h...   \n",
       "147   148  Hello Guys...I Found a Way to Make Money Onlin...   \n",
       "342   343  This video will get to 2 billion just because ...   \n",
       "999  1000  OMG that looks just like a piece of the mirror...   \n",
       "811   812                  Check out this video on YouTube:﻿   \n",
       "\n",
       "     characters_length                                   Content_Parsed_1  \\\n",
       "10                 507  I hope everyone is in good spirits I&#39;m a h...   \n",
       "147                498  Hello Guys...I Found a Way to Make Money Onlin...   \n",
       "342                 95  This video will get to 2 billion just because ...   \n",
       "999                127  OMG that looks just like a piece of the mirror...   \n",
       "811                 33                  Check out this video on YouTube:﻿   \n",
       "\n",
       "                                      Content_Parsed_2  \\\n",
       "10   I hope everyone is in good spirits m hard work...   \n",
       "147  Hello Guys Found Way to Make Money Online You ...   \n",
       "342  This video will get to  billion just because o...   \n",
       "999  OMG that looks just like piece of the mirror o...   \n",
       "811                   Check out this video on YouTube    \n",
       "\n",
       "                                      Content_Parsed_3  \n",
       "10   I hope everyone is in good spirits m hard work...  \n",
       "147  Hello Guys Found Way to Make Money Online You ...  \n",
       "342  This video will get to  billion just because o...  \n",
       "999  OMG that looks just like piece of the mirror o...  \n",
       "811                   Check out this video on YouTube   "
      ]
     },
     "execution_count": 32,
     "metadata": {},
     "output_type": "execute_result"
    }
   ],
   "source": [
    "X_train.head()"
   ]
  },
  {
   "cell_type": "code",
   "execution_count": 33,
   "metadata": {},
   "outputs": [],
   "source": [
    "def lower_text(data):\n",
    "    data['Content_Parsed_4'] = data['Content_Parsed_3'].str.lower()\n",
    "    return data\n",
    "\n",
    "X_train = lower_text(X_train)\n",
    "X_test = lower_text(X_test)"
   ]
  },
  {
   "cell_type": "code",
   "execution_count": 34,
   "metadata": {},
   "outputs": [
    {
     "data": {
      "text/html": [
       "<div>\n",
       "<style scoped>\n",
       "    .dataframe tbody tr th:only-of-type {\n",
       "        vertical-align: middle;\n",
       "    }\n",
       "\n",
       "    .dataframe tbody tr th {\n",
       "        vertical-align: top;\n",
       "    }\n",
       "\n",
       "    .dataframe thead th {\n",
       "        text-align: right;\n",
       "    }\n",
       "</style>\n",
       "<table border=\"1\" class=\"dataframe\">\n",
       "  <thead>\n",
       "    <tr style=\"text-align: right;\">\n",
       "      <th></th>\n",
       "      <th>No</th>\n",
       "      <th>Comment</th>\n",
       "      <th>characters_length</th>\n",
       "      <th>Content_Parsed_1</th>\n",
       "      <th>Content_Parsed_2</th>\n",
       "      <th>Content_Parsed_3</th>\n",
       "      <th>Content_Parsed_4</th>\n",
       "    </tr>\n",
       "  </thead>\n",
       "  <tbody>\n",
       "    <tr>\n",
       "      <th>10</th>\n",
       "      <td>11</td>\n",
       "      <td>I hope everyone is in good spirits I&amp;#39;m a h...</td>\n",
       "      <td>507</td>\n",
       "      <td>I hope everyone is in good spirits I&amp;#39;m a h...</td>\n",
       "      <td>I hope everyone is in good spirits m hard work...</td>\n",
       "      <td>I hope everyone is in good spirits m hard work...</td>\n",
       "      <td>i hope everyone is in good spirits m hard work...</td>\n",
       "    </tr>\n",
       "    <tr>\n",
       "      <th>147</th>\n",
       "      <td>148</td>\n",
       "      <td>Hello Guys...I Found a Way to Make Money Onlin...</td>\n",
       "      <td>498</td>\n",
       "      <td>Hello Guys...I Found a Way to Make Money Onlin...</td>\n",
       "      <td>Hello Guys Found Way to Make Money Online You ...</td>\n",
       "      <td>Hello Guys Found Way to Make Money Online You ...</td>\n",
       "      <td>hello guys found way to make money online you ...</td>\n",
       "    </tr>\n",
       "    <tr>\n",
       "      <th>342</th>\n",
       "      <td>343</td>\n",
       "      <td>This video will get to 2 billion just because ...</td>\n",
       "      <td>95</td>\n",
       "      <td>This video will get to 2 billion just because ...</td>\n",
       "      <td>This video will get to  billion just because o...</td>\n",
       "      <td>This video will get to  billion just because o...</td>\n",
       "      <td>this video will get to  billion just because o...</td>\n",
       "    </tr>\n",
       "    <tr>\n",
       "      <th>999</th>\n",
       "      <td>1000</td>\n",
       "      <td>OMG that looks just like a piece of the mirror...</td>\n",
       "      <td>127</td>\n",
       "      <td>OMG that looks just like a piece of the mirror...</td>\n",
       "      <td>OMG that looks just like piece of the mirror o...</td>\n",
       "      <td>OMG that looks just like piece of the mirror o...</td>\n",
       "      <td>omg that looks just like piece of the mirror o...</td>\n",
       "    </tr>\n",
       "    <tr>\n",
       "      <th>811</th>\n",
       "      <td>812</td>\n",
       "      <td>Check out this video on YouTube:﻿</td>\n",
       "      <td>33</td>\n",
       "      <td>Check out this video on YouTube:﻿</td>\n",
       "      <td>Check out this video on YouTube</td>\n",
       "      <td>Check out this video on YouTube</td>\n",
       "      <td>check out this video on youtube</td>\n",
       "    </tr>\n",
       "  </tbody>\n",
       "</table>\n",
       "</div>"
      ],
      "text/plain": [
       "       No                                            Comment  \\\n",
       "10     11  I hope everyone is in good spirits I&#39;m a h...   \n",
       "147   148  Hello Guys...I Found a Way to Make Money Onlin...   \n",
       "342   343  This video will get to 2 billion just because ...   \n",
       "999  1000  OMG that looks just like a piece of the mirror...   \n",
       "811   812                  Check out this video on YouTube:﻿   \n",
       "\n",
       "     characters_length                                   Content_Parsed_1  \\\n",
       "10                 507  I hope everyone is in good spirits I&#39;m a h...   \n",
       "147                498  Hello Guys...I Found a Way to Make Money Onlin...   \n",
       "342                 95  This video will get to 2 billion just because ...   \n",
       "999                127  OMG that looks just like a piece of the mirror...   \n",
       "811                 33                  Check out this video on YouTube:﻿   \n",
       "\n",
       "                                      Content_Parsed_2  \\\n",
       "10   I hope everyone is in good spirits m hard work...   \n",
       "147  Hello Guys Found Way to Make Money Online You ...   \n",
       "342  This video will get to  billion just because o...   \n",
       "999  OMG that looks just like piece of the mirror o...   \n",
       "811                   Check out this video on YouTube    \n",
       "\n",
       "                                      Content_Parsed_3  \\\n",
       "10   I hope everyone is in good spirits m hard work...   \n",
       "147  Hello Guys Found Way to Make Money Online You ...   \n",
       "342  This video will get to  billion just because o...   \n",
       "999  OMG that looks just like piece of the mirror o...   \n",
       "811                   Check out this video on YouTube    \n",
       "\n",
       "                                      Content_Parsed_4  \n",
       "10   i hope everyone is in good spirits m hard work...  \n",
       "147  hello guys found way to make money online you ...  \n",
       "342  this video will get to  billion just because o...  \n",
       "999  omg that looks just like piece of the mirror o...  \n",
       "811                   check out this video on youtube   "
      ]
     },
     "execution_count": 34,
     "metadata": {},
     "output_type": "execute_result"
    }
   ],
   "source": [
    "X_train.head()"
   ]
  },
  {
   "cell_type": "code",
   "execution_count": 35,
   "metadata": {},
   "outputs": [],
   "source": [
    "def stemming_lemmatization(data):\n",
    "    \n",
    "    wordnet_lemmatizer = WordNetLemmatizer()\n",
    "    \n",
    "    nrows = len(data)\n",
    "    lemmatized_text_list = []\n",
    "\n",
    "    for row in range(0, nrows):\n",
    "\n",
    "        # Create an empty list containing lemmatized words\n",
    "        lemmatized_list = []\n",
    "\n",
    "        # Save the text and its words into an object\n",
    "        text = data.iloc[row]['Content_Parsed_4']\n",
    "        text_words = text.split(\" \")\n",
    "\n",
    "        # Iterate through every word to lemmatize\n",
    "        for word in text_words:\n",
    "            lemmatized_list.append(wordnet_lemmatizer.lemmatize(word, pos=\"v\"))\n",
    "\n",
    "        # Join the list\n",
    "        lemmatized_text = \" \".join(lemmatized_list)\n",
    "\n",
    "        # Append to the list containing the texts\n",
    "        lemmatized_text_list.append(lemmatized_text)\n",
    "    \n",
    "    data['Content_Parsed_5'] = lemmatized_text_list\n",
    "    \n",
    "    return data"
   ]
  },
  {
   "cell_type": "code",
   "execution_count": 36,
   "metadata": {},
   "outputs": [],
   "source": [
    "X_train = stemming_lemmatization(X_train)\n",
    "X_test = stemming_lemmatization(X_test)"
   ]
  },
  {
   "cell_type": "code",
   "execution_count": 37,
   "metadata": {},
   "outputs": [
    {
     "data": {
      "text/html": [
       "<div>\n",
       "<style scoped>\n",
       "    .dataframe tbody tr th:only-of-type {\n",
       "        vertical-align: middle;\n",
       "    }\n",
       "\n",
       "    .dataframe tbody tr th {\n",
       "        vertical-align: top;\n",
       "    }\n",
       "\n",
       "    .dataframe thead th {\n",
       "        text-align: right;\n",
       "    }\n",
       "</style>\n",
       "<table border=\"1\" class=\"dataframe\">\n",
       "  <thead>\n",
       "    <tr style=\"text-align: right;\">\n",
       "      <th></th>\n",
       "      <th>No</th>\n",
       "      <th>Comment</th>\n",
       "      <th>characters_length</th>\n",
       "      <th>Content_Parsed_1</th>\n",
       "      <th>Content_Parsed_2</th>\n",
       "      <th>Content_Parsed_3</th>\n",
       "      <th>Content_Parsed_4</th>\n",
       "      <th>Content_Parsed_5</th>\n",
       "    </tr>\n",
       "  </thead>\n",
       "  <tbody>\n",
       "    <tr>\n",
       "      <th>10</th>\n",
       "      <td>11</td>\n",
       "      <td>I hope everyone is in good spirits I&amp;#39;m a h...</td>\n",
       "      <td>507</td>\n",
       "      <td>I hope everyone is in good spirits I&amp;#39;m a h...</td>\n",
       "      <td>I hope everyone is in good spirits m hard work...</td>\n",
       "      <td>I hope everyone is in good spirits m hard work...</td>\n",
       "      <td>i hope everyone is in good spirits m hard work...</td>\n",
       "      <td>i hope everyone be in good spirit m hard work ...</td>\n",
       "    </tr>\n",
       "    <tr>\n",
       "      <th>147</th>\n",
       "      <td>148</td>\n",
       "      <td>Hello Guys...I Found a Way to Make Money Onlin...</td>\n",
       "      <td>498</td>\n",
       "      <td>Hello Guys...I Found a Way to Make Money Onlin...</td>\n",
       "      <td>Hello Guys Found Way to Make Money Online You ...</td>\n",
       "      <td>Hello Guys Found Way to Make Money Online You ...</td>\n",
       "      <td>hello guys found way to make money online you ...</td>\n",
       "      <td>hello guy find way to make money online you ca...</td>\n",
       "    </tr>\n",
       "    <tr>\n",
       "      <th>342</th>\n",
       "      <td>343</td>\n",
       "      <td>This video will get to 2 billion just because ...</td>\n",
       "      <td>95</td>\n",
       "      <td>This video will get to 2 billion just because ...</td>\n",
       "      <td>This video will get to  billion just because o...</td>\n",
       "      <td>This video will get to  billion just because o...</td>\n",
       "      <td>this video will get to  billion just because o...</td>\n",
       "      <td>this video will get to  billion just because o...</td>\n",
       "    </tr>\n",
       "    <tr>\n",
       "      <th>999</th>\n",
       "      <td>1000</td>\n",
       "      <td>OMG that looks just like a piece of the mirror...</td>\n",
       "      <td>127</td>\n",
       "      <td>OMG that looks just like a piece of the mirror...</td>\n",
       "      <td>OMG that looks just like piece of the mirror o...</td>\n",
       "      <td>OMG that looks just like piece of the mirror o...</td>\n",
       "      <td>omg that looks just like piece of the mirror o...</td>\n",
       "      <td>omg that look just like piece of the mirror of...</td>\n",
       "    </tr>\n",
       "    <tr>\n",
       "      <th>811</th>\n",
       "      <td>812</td>\n",
       "      <td>Check out this video on YouTube:﻿</td>\n",
       "      <td>33</td>\n",
       "      <td>Check out this video on YouTube:﻿</td>\n",
       "      <td>Check out this video on YouTube</td>\n",
       "      <td>Check out this video on YouTube</td>\n",
       "      <td>check out this video on youtube</td>\n",
       "      <td>check out this video on youtube</td>\n",
       "    </tr>\n",
       "  </tbody>\n",
       "</table>\n",
       "</div>"
      ],
      "text/plain": [
       "       No                                            Comment  \\\n",
       "10     11  I hope everyone is in good spirits I&#39;m a h...   \n",
       "147   148  Hello Guys...I Found a Way to Make Money Onlin...   \n",
       "342   343  This video will get to 2 billion just because ...   \n",
       "999  1000  OMG that looks just like a piece of the mirror...   \n",
       "811   812                  Check out this video on YouTube:﻿   \n",
       "\n",
       "     characters_length                                   Content_Parsed_1  \\\n",
       "10                 507  I hope everyone is in good spirits I&#39;m a h...   \n",
       "147                498  Hello Guys...I Found a Way to Make Money Onlin...   \n",
       "342                 95  This video will get to 2 billion just because ...   \n",
       "999                127  OMG that looks just like a piece of the mirror...   \n",
       "811                 33                  Check out this video on YouTube:﻿   \n",
       "\n",
       "                                      Content_Parsed_2  \\\n",
       "10   I hope everyone is in good spirits m hard work...   \n",
       "147  Hello Guys Found Way to Make Money Online You ...   \n",
       "342  This video will get to  billion just because o...   \n",
       "999  OMG that looks just like piece of the mirror o...   \n",
       "811                   Check out this video on YouTube    \n",
       "\n",
       "                                      Content_Parsed_3  \\\n",
       "10   I hope everyone is in good spirits m hard work...   \n",
       "147  Hello Guys Found Way to Make Money Online You ...   \n",
       "342  This video will get to  billion just because o...   \n",
       "999  OMG that looks just like piece of the mirror o...   \n",
       "811                   Check out this video on YouTube    \n",
       "\n",
       "                                      Content_Parsed_4  \\\n",
       "10   i hope everyone is in good spirits m hard work...   \n",
       "147  hello guys found way to make money online you ...   \n",
       "342  this video will get to  billion just because o...   \n",
       "999  omg that looks just like piece of the mirror o...   \n",
       "811                   check out this video on youtube    \n",
       "\n",
       "                                      Content_Parsed_5  \n",
       "10   i hope everyone be in good spirit m hard work ...  \n",
       "147  hello guy find way to make money online you ca...  \n",
       "342  this video will get to  billion just because o...  \n",
       "999  omg that look just like piece of the mirror of...  \n",
       "811                   check out this video on youtube   "
      ]
     },
     "execution_count": 37,
     "metadata": {},
     "output_type": "execute_result"
    }
   ],
   "source": [
    "X_train.head()"
   ]
  },
  {
   "cell_type": "code",
   "execution_count": 38,
   "metadata": {},
   "outputs": [],
   "source": [
    "def remove_stop_words(data):\n",
    "    \n",
    "    stop_words = list(stopwords.words('english'))\n",
    "    \n",
    "    data['Content_Parsed_6'] = data['Content_Parsed_5']\n",
    "\n",
    "    for stop_word in stop_words:\n",
    "\n",
    "        regex_stopword = r\"\\b\" + stop_word + r\"\\b\"\n",
    "        data['Content_Parsed_6'] = data['Content_Parsed_6'].str.replace(regex_stopword, '')\n",
    "        \n",
    "    return data"
   ]
  },
  {
   "cell_type": "code",
   "execution_count": 39,
   "metadata": {},
   "outputs": [],
   "source": [
    "X_train = remove_stop_words(X_train)\n",
    "X_test = remove_stop_words(X_test)"
   ]
  },
  {
   "cell_type": "code",
   "execution_count": 40,
   "metadata": {},
   "outputs": [
    {
     "data": {
      "text/html": [
       "<div>\n",
       "<style scoped>\n",
       "    .dataframe tbody tr th:only-of-type {\n",
       "        vertical-align: middle;\n",
       "    }\n",
       "\n",
       "    .dataframe tbody tr th {\n",
       "        vertical-align: top;\n",
       "    }\n",
       "\n",
       "    .dataframe thead th {\n",
       "        text-align: right;\n",
       "    }\n",
       "</style>\n",
       "<table border=\"1\" class=\"dataframe\">\n",
       "  <thead>\n",
       "    <tr style=\"text-align: right;\">\n",
       "      <th></th>\n",
       "      <th>No</th>\n",
       "      <th>Comment</th>\n",
       "      <th>characters_length</th>\n",
       "      <th>Content_Parsed_1</th>\n",
       "      <th>Content_Parsed_2</th>\n",
       "      <th>Content_Parsed_3</th>\n",
       "      <th>Content_Parsed_4</th>\n",
       "      <th>Content_Parsed_5</th>\n",
       "      <th>Content_Parsed_6</th>\n",
       "    </tr>\n",
       "  </thead>\n",
       "  <tbody>\n",
       "    <tr>\n",
       "      <th>10</th>\n",
       "      <td>11</td>\n",
       "      <td>I hope everyone is in good spirits I&amp;#39;m a h...</td>\n",
       "      <td>507</td>\n",
       "      <td>I hope everyone is in good spirits I&amp;#39;m a h...</td>\n",
       "      <td>I hope everyone is in good spirits m hard work...</td>\n",
       "      <td>I hope everyone is in good spirits m hard work...</td>\n",
       "      <td>i hope everyone is in good spirits m hard work...</td>\n",
       "      <td>i hope everyone be in good spirit m hard work ...</td>\n",
       "      <td>hope everyone   good spirit  hard work studen...</td>\n",
       "    </tr>\n",
       "    <tr>\n",
       "      <th>147</th>\n",
       "      <td>148</td>\n",
       "      <td>Hello Guys...I Found a Way to Make Money Onlin...</td>\n",
       "      <td>498</td>\n",
       "      <td>Hello Guys...I Found a Way to Make Money Onlin...</td>\n",
       "      <td>Hello Guys Found Way to Make Money Online You ...</td>\n",
       "      <td>Hello Guys Found Way to Make Money Online You ...</td>\n",
       "      <td>hello guys found way to make money online you ...</td>\n",
       "      <td>hello guy find way to make money online you ca...</td>\n",
       "      <td>hello guy find way  make money online   get pa...</td>\n",
       "    </tr>\n",
       "    <tr>\n",
       "      <th>342</th>\n",
       "      <td>343</td>\n",
       "      <td>This video will get to 2 billion just because ...</td>\n",
       "      <td>95</td>\n",
       "      <td>This video will get to 2 billion just because ...</td>\n",
       "      <td>This video will get to  billion just because o...</td>\n",
       "      <td>This video will get to  billion just because o...</td>\n",
       "      <td>this video will get to  billion just because o...</td>\n",
       "      <td>this video will get to  billion just because o...</td>\n",
       "      <td>video  get   billion    people check     hit ...</td>\n",
       "    </tr>\n",
       "    <tr>\n",
       "      <th>999</th>\n",
       "      <td>1000</td>\n",
       "      <td>OMG that looks just like a piece of the mirror...</td>\n",
       "      <td>127</td>\n",
       "      <td>OMG that looks just like a piece of the mirror...</td>\n",
       "      <td>OMG that looks just like piece of the mirror o...</td>\n",
       "      <td>OMG that looks just like piece of the mirror o...</td>\n",
       "      <td>omg that looks just like piece of the mirror o...</td>\n",
       "      <td>omg that look just like piece of the mirror of...</td>\n",
       "      <td>omg  look  like piece   mirror  harry potter  ...</td>\n",
       "    </tr>\n",
       "    <tr>\n",
       "      <th>811</th>\n",
       "      <td>812</td>\n",
       "      <td>Check out this video on YouTube:﻿</td>\n",
       "      <td>33</td>\n",
       "      <td>Check out this video on YouTube:﻿</td>\n",
       "      <td>Check out this video on YouTube</td>\n",
       "      <td>Check out this video on YouTube</td>\n",
       "      <td>check out this video on youtube</td>\n",
       "      <td>check out this video on youtube</td>\n",
       "      <td>check   video  youtube</td>\n",
       "    </tr>\n",
       "  </tbody>\n",
       "</table>\n",
       "</div>"
      ],
      "text/plain": [
       "       No                                            Comment  \\\n",
       "10     11  I hope everyone is in good spirits I&#39;m a h...   \n",
       "147   148  Hello Guys...I Found a Way to Make Money Onlin...   \n",
       "342   343  This video will get to 2 billion just because ...   \n",
       "999  1000  OMG that looks just like a piece of the mirror...   \n",
       "811   812                  Check out this video on YouTube:﻿   \n",
       "\n",
       "     characters_length                                   Content_Parsed_1  \\\n",
       "10                 507  I hope everyone is in good spirits I&#39;m a h...   \n",
       "147                498  Hello Guys...I Found a Way to Make Money Onlin...   \n",
       "342                 95  This video will get to 2 billion just because ...   \n",
       "999                127  OMG that looks just like a piece of the mirror...   \n",
       "811                 33                  Check out this video on YouTube:﻿   \n",
       "\n",
       "                                      Content_Parsed_2  \\\n",
       "10   I hope everyone is in good spirits m hard work...   \n",
       "147  Hello Guys Found Way to Make Money Online You ...   \n",
       "342  This video will get to  billion just because o...   \n",
       "999  OMG that looks just like piece of the mirror o...   \n",
       "811                   Check out this video on YouTube    \n",
       "\n",
       "                                      Content_Parsed_3  \\\n",
       "10   I hope everyone is in good spirits m hard work...   \n",
       "147  Hello Guys Found Way to Make Money Online You ...   \n",
       "342  This video will get to  billion just because o...   \n",
       "999  OMG that looks just like piece of the mirror o...   \n",
       "811                   Check out this video on YouTube    \n",
       "\n",
       "                                      Content_Parsed_4  \\\n",
       "10   i hope everyone is in good spirits m hard work...   \n",
       "147  hello guys found way to make money online you ...   \n",
       "342  this video will get to  billion just because o...   \n",
       "999  omg that looks just like piece of the mirror o...   \n",
       "811                   check out this video on youtube    \n",
       "\n",
       "                                      Content_Parsed_5  \\\n",
       "10   i hope everyone be in good spirit m hard work ...   \n",
       "147  hello guy find way to make money online you ca...   \n",
       "342  this video will get to  billion just because o...   \n",
       "999  omg that look just like piece of the mirror of...   \n",
       "811                   check out this video on youtube    \n",
       "\n",
       "                                      Content_Parsed_6  \n",
       "10    hope everyone   good spirit  hard work studen...  \n",
       "147  hello guy find way  make money online   get pa...  \n",
       "342   video  get   billion    people check     hit ...  \n",
       "999  omg  look  like piece   mirror  harry potter  ...  \n",
       "811                            check   video  youtube   "
      ]
     },
     "execution_count": 40,
     "metadata": {},
     "output_type": "execute_result"
    }
   ],
   "source": [
    "X_train.head()"
   ]
  },
  {
   "cell_type": "code",
   "execution_count": 41,
   "metadata": {},
   "outputs": [],
   "source": [
    "def show_data_transformation(data,index):\n",
    "    print('Original data:')\n",
    "    print(data.iloc[index]['Comment'])\n",
    "    print()\n",
    "    print('After remove possesive pronouns:')\n",
    "    print(data.iloc[index]['Content_Parsed_1'])\n",
    "    print()\n",
    "    print('After remove special characters:')\n",
    "    print(data.iloc[index]['Content_Parsed_2'])\n",
    "    print()\n",
    "    print('After remove left special characters for 2nd times:')\n",
    "    print(data.iloc[index]['Content_Parsed_3'])\n",
    "    print()\n",
    "    print('After lower the text:')\n",
    "    print(data.iloc[index]['Content_Parsed_4'])\n",
    "    print()\n",
    "    print('After stemming and lemmatization:')\n",
    "    print(data.iloc[index]['Content_Parsed_5'])\n",
    "    print()\n",
    "    print('After remove stop words:')\n",
    "    print(data.iloc[index]['Content_Parsed_6'])\n",
    "    "
   ]
  },
  {
   "cell_type": "code",
   "execution_count": 42,
   "metadata": {},
   "outputs": [
    {
     "name": "stdout",
     "output_type": "stream",
     "text": [
      "Original data:\n",
      "Hello Guys...I Found a Way to Make Money Online You Can Get Paid To Mess Around On Facebook And Twitter! GET PAID UPTO $25 to $35 AN HOUR...Only at 4NetJobs.com Work from the Comfort of your Home... They are Currently Hiring People from all Over the World, For a Wide Range of Social Media Jobs on Sites such as Facebook,Twitter and YouTube You don&#39;t Need any Prior Skills or Experience and You can Begin Work Immediately! You Can Easily Make $4000 to $5000+ Monthly Income…Only at 4NetJobs.com\n",
      "\n",
      "After remove possesive pronouns:\n",
      "Hello Guys...I Found a Way to Make Money Online You Can Get Paid To Mess Around On Facebook And Twitter! GET PAID UPTO $25 to $35 AN HOUR...Only at 4NetJobs.com Work from the Comfort of your Home... They are Currently Hiring People from all Over the World, For a Wide Range of Social Media Jobs on Sites such as Facebook,Twitter and YouTube You don&#39;t Need any Prior Skills or Experience and You can Begin Work Immediately! You Can Easily Make $4000 to $5000+ Monthly Income…Only at 4NetJobs.com\n",
      "\n",
      "After remove special characters:\n",
      "Hello Guys Found Way to Make Money Online You Can Get Paid To Mess Around On Facebook And Twitter  GET PAID UPTO   to   AN HOUR   Only at NetJobs com Work from the Comfort of your Home    They are Currently Hiring People from all Over the World  For Wide Range of Social Media Jobs on Sites such as Facebook Twitter and YouTube You don Need any Prior Skills or Experience and You can Begin Work Immediately  You Can Easily Make   to    Monthly IncomeOnly at NetJobs com\n",
      "\n",
      "After remove left special characters for 2nd times:\n",
      "Hello Guys Found Way to Make Money Online You Can Get Paid To Mess Around On Facebook And Twitter  GET PAID UPTO   to   AN HOUR   Only at NetJobs com Work from the Comfort of your Home    They are Currently Hiring People from all Over the World  For Wide Range of Social Media Jobs on Sites such as Facebook Twitter and YouTube You don Need any Prior Skills or Experience and You can Begin Work Immediately  You Can Easily Make   to    Monthly IncomeOnly at NetJobs com\n",
      "\n",
      "After lower the text:\n",
      "hello guys found way to make money online you can get paid to mess around on facebook and twitter  get paid upto   to   an hour   only at netjobs com work from the comfort of your home    they are currently hiring people from all over the world  for wide range of social media jobs on sites such as facebook twitter and youtube you don need any prior skills or experience and you can begin work immediately  you can easily make   to    monthly incomeonly at netjobs com\n",
      "\n",
      "After stemming and lemmatization:\n",
      "hello guy find way to make money online you can get pay to mess around on facebook and twitter  get pay upto   to   an hour   only at netjobs com work from the comfort of your home    they be currently hire people from all over the world  for wide range of social media job on sit such as facebook twitter and youtube you don need any prior skills or experience and you can begin work immediately  you can easily make   to    monthly incomeonly at netjobs com\n",
      "\n",
      "After remove stop words:\n",
      "hello guy find way  make money online   get pay  mess around  facebook  twitter  get pay upto       hour     netjobs com work   comfort   home      currently hire people     world   wide range  social media job  sit   facebook twitter  youtube   need  prior skills  experience    begin work immediately    easily make       monthly incomeonly  netjobs com\n"
     ]
    }
   ],
   "source": [
    "show_data_transformation(X_train,1)"
   ]
  },
  {
   "cell_type": "code",
   "execution_count": 43,
   "metadata": {},
   "outputs": [
    {
     "name": "stdout",
     "output_type": "stream",
     "text": [
      "Original data:\n",
      "This video will get to 2 billion just because of people checking if it has  hit 2 billion yet.﻿\n",
      "\n",
      "After remove possesive pronouns:\n",
      "This video will get to 2 billion just because of people checking if it has  hit 2 billion yet.﻿\n",
      "\n",
      "After remove special characters:\n",
      "This video will get to  billion just because of people checking if it has  hit  billion yet \n",
      "\n",
      "After remove left special characters for 2nd times:\n",
      "This video will get to  billion just because of people checking if it has  hit  billion yet \n",
      "\n",
      "After lower the text:\n",
      "this video will get to  billion just because of people checking if it has  hit  billion yet \n",
      "\n",
      "After stemming and lemmatization:\n",
      "this video will get to  billion just because of people check if it have  hit  billion yet \n",
      "\n",
      "After remove stop words:\n",
      " video  get   billion    people check     hit  billion yet \n"
     ]
    }
   ],
   "source": [
    "show_data_transformation(X_train,2)"
   ]
  },
  {
   "cell_type": "code",
   "execution_count": 44,
   "metadata": {},
   "outputs": [
    {
     "data": {
      "text/html": [
       "<div>\n",
       "<style scoped>\n",
       "    .dataframe tbody tr th:only-of-type {\n",
       "        vertical-align: middle;\n",
       "    }\n",
       "\n",
       "    .dataframe tbody tr th {\n",
       "        vertical-align: top;\n",
       "    }\n",
       "\n",
       "    .dataframe thead th {\n",
       "        text-align: right;\n",
       "    }\n",
       "</style>\n",
       "<table border=\"1\" class=\"dataframe\">\n",
       "  <thead>\n",
       "    <tr style=\"text-align: right;\">\n",
       "      <th></th>\n",
       "      <th>No</th>\n",
       "      <th>Comment</th>\n",
       "      <th>characters_length</th>\n",
       "      <th>Content_Parsed_1</th>\n",
       "      <th>Content_Parsed_2</th>\n",
       "      <th>Content_Parsed_3</th>\n",
       "      <th>Content_Parsed_4</th>\n",
       "      <th>Content_Parsed_5</th>\n",
       "      <th>Content_Parsed_6</th>\n",
       "    </tr>\n",
       "  </thead>\n",
       "  <tbody>\n",
       "    <tr>\n",
       "      <th>10</th>\n",
       "      <td>11</td>\n",
       "      <td>I hope everyone is in good spirits I&amp;#39;m a h...</td>\n",
       "      <td>507</td>\n",
       "      <td>I hope everyone is in good spirits I&amp;#39;m a h...</td>\n",
       "      <td>I hope everyone is in good spirits m hard work...</td>\n",
       "      <td>I hope everyone is in good spirits m hard work...</td>\n",
       "      <td>i hope everyone is in good spirits m hard work...</td>\n",
       "      <td>i hope everyone be in good spirit m hard work ...</td>\n",
       "      <td>hope everyone   good spirit  hard work studen...</td>\n",
       "    </tr>\n",
       "    <tr>\n",
       "      <th>147</th>\n",
       "      <td>148</td>\n",
       "      <td>Hello Guys...I Found a Way to Make Money Onlin...</td>\n",
       "      <td>498</td>\n",
       "      <td>Hello Guys...I Found a Way to Make Money Onlin...</td>\n",
       "      <td>Hello Guys Found Way to Make Money Online You ...</td>\n",
       "      <td>Hello Guys Found Way to Make Money Online You ...</td>\n",
       "      <td>hello guys found way to make money online you ...</td>\n",
       "      <td>hello guy find way to make money online you ca...</td>\n",
       "      <td>hello guy find way  make money online   get pa...</td>\n",
       "    </tr>\n",
       "    <tr>\n",
       "      <th>342</th>\n",
       "      <td>343</td>\n",
       "      <td>This video will get to 2 billion just because ...</td>\n",
       "      <td>95</td>\n",
       "      <td>This video will get to 2 billion just because ...</td>\n",
       "      <td>This video will get to  billion just because o...</td>\n",
       "      <td>This video will get to  billion just because o...</td>\n",
       "      <td>this video will get to  billion just because o...</td>\n",
       "      <td>this video will get to  billion just because o...</td>\n",
       "      <td>video  get   billion    people check     hit ...</td>\n",
       "    </tr>\n",
       "    <tr>\n",
       "      <th>999</th>\n",
       "      <td>1000</td>\n",
       "      <td>OMG that looks just like a piece of the mirror...</td>\n",
       "      <td>127</td>\n",
       "      <td>OMG that looks just like a piece of the mirror...</td>\n",
       "      <td>OMG that looks just like piece of the mirror o...</td>\n",
       "      <td>OMG that looks just like piece of the mirror o...</td>\n",
       "      <td>omg that looks just like piece of the mirror o...</td>\n",
       "      <td>omg that look just like piece of the mirror of...</td>\n",
       "      <td>omg  look  like piece   mirror  harry potter  ...</td>\n",
       "    </tr>\n",
       "    <tr>\n",
       "      <th>811</th>\n",
       "      <td>812</td>\n",
       "      <td>Check out this video on YouTube:﻿</td>\n",
       "      <td>33</td>\n",
       "      <td>Check out this video on YouTube:﻿</td>\n",
       "      <td>Check out this video on YouTube</td>\n",
       "      <td>Check out this video on YouTube</td>\n",
       "      <td>check out this video on youtube</td>\n",
       "      <td>check out this video on youtube</td>\n",
       "      <td>check   video  youtube</td>\n",
       "    </tr>\n",
       "  </tbody>\n",
       "</table>\n",
       "</div>"
      ],
      "text/plain": [
       "       No                                            Comment  \\\n",
       "10     11  I hope everyone is in good spirits I&#39;m a h...   \n",
       "147   148  Hello Guys...I Found a Way to Make Money Onlin...   \n",
       "342   343  This video will get to 2 billion just because ...   \n",
       "999  1000  OMG that looks just like a piece of the mirror...   \n",
       "811   812                  Check out this video on YouTube:﻿   \n",
       "\n",
       "     characters_length                                   Content_Parsed_1  \\\n",
       "10                 507  I hope everyone is in good spirits I&#39;m a h...   \n",
       "147                498  Hello Guys...I Found a Way to Make Money Onlin...   \n",
       "342                 95  This video will get to 2 billion just because ...   \n",
       "999                127  OMG that looks just like a piece of the mirror...   \n",
       "811                 33                  Check out this video on YouTube:﻿   \n",
       "\n",
       "                                      Content_Parsed_2  \\\n",
       "10   I hope everyone is in good spirits m hard work...   \n",
       "147  Hello Guys Found Way to Make Money Online You ...   \n",
       "342  This video will get to  billion just because o...   \n",
       "999  OMG that looks just like piece of the mirror o...   \n",
       "811                   Check out this video on YouTube    \n",
       "\n",
       "                                      Content_Parsed_3  \\\n",
       "10   I hope everyone is in good spirits m hard work...   \n",
       "147  Hello Guys Found Way to Make Money Online You ...   \n",
       "342  This video will get to  billion just because o...   \n",
       "999  OMG that looks just like piece of the mirror o...   \n",
       "811                   Check out this video on YouTube    \n",
       "\n",
       "                                      Content_Parsed_4  \\\n",
       "10   i hope everyone is in good spirits m hard work...   \n",
       "147  hello guys found way to make money online you ...   \n",
       "342  this video will get to  billion just because o...   \n",
       "999  omg that looks just like piece of the mirror o...   \n",
       "811                   check out this video on youtube    \n",
       "\n",
       "                                      Content_Parsed_5  \\\n",
       "10   i hope everyone be in good spirit m hard work ...   \n",
       "147  hello guy find way to make money online you ca...   \n",
       "342  this video will get to  billion just because o...   \n",
       "999  omg that look just like piece of the mirror of...   \n",
       "811                   check out this video on youtube    \n",
       "\n",
       "                                      Content_Parsed_6  \n",
       "10    hope everyone   good spirit  hard work studen...  \n",
       "147  hello guy find way  make money online   get pa...  \n",
       "342   video  get   billion    people check     hit ...  \n",
       "999  omg  look  like piece   mirror  harry potter  ...  \n",
       "811                            check   video  youtube   "
      ]
     },
     "execution_count": 44,
     "metadata": {},
     "output_type": "execute_result"
    }
   ],
   "source": [
    "X_train.head()"
   ]
  },
  {
   "cell_type": "code",
   "execution_count": 45,
   "metadata": {},
   "outputs": [
    {
     "data": {
      "text/html": [
       "<div>\n",
       "<style scoped>\n",
       "    .dataframe tbody tr th:only-of-type {\n",
       "        vertical-align: middle;\n",
       "    }\n",
       "\n",
       "    .dataframe tbody tr th {\n",
       "        vertical-align: top;\n",
       "    }\n",
       "\n",
       "    .dataframe thead th {\n",
       "        text-align: right;\n",
       "    }\n",
       "</style>\n",
       "<table border=\"1\" class=\"dataframe\">\n",
       "  <thead>\n",
       "    <tr style=\"text-align: right;\">\n",
       "      <th></th>\n",
       "      <th>No</th>\n",
       "      <th>Comment</th>\n",
       "      <th>characters_length</th>\n",
       "      <th>Content_Parsed</th>\n",
       "    </tr>\n",
       "  </thead>\n",
       "  <tbody>\n",
       "    <tr>\n",
       "      <th>10</th>\n",
       "      <td>11</td>\n",
       "      <td>I hope everyone is in good spirits I&amp;#39;m a h...</td>\n",
       "      <td>507</td>\n",
       "      <td>hope everyone   good spirit  hard work studen...</td>\n",
       "    </tr>\n",
       "    <tr>\n",
       "      <th>147</th>\n",
       "      <td>148</td>\n",
       "      <td>Hello Guys...I Found a Way to Make Money Onlin...</td>\n",
       "      <td>498</td>\n",
       "      <td>hello guy find way  make money online   get pa...</td>\n",
       "    </tr>\n",
       "    <tr>\n",
       "      <th>342</th>\n",
       "      <td>343</td>\n",
       "      <td>This video will get to 2 billion just because ...</td>\n",
       "      <td>95</td>\n",
       "      <td>video  get   billion    people check     hit ...</td>\n",
       "    </tr>\n",
       "    <tr>\n",
       "      <th>999</th>\n",
       "      <td>1000</td>\n",
       "      <td>OMG that looks just like a piece of the mirror...</td>\n",
       "      <td>127</td>\n",
       "      <td>omg  look  like piece   mirror  harry potter  ...</td>\n",
       "    </tr>\n",
       "    <tr>\n",
       "      <th>811</th>\n",
       "      <td>812</td>\n",
       "      <td>Check out this video on YouTube:﻿</td>\n",
       "      <td>33</td>\n",
       "      <td>check   video  youtube</td>\n",
       "    </tr>\n",
       "  </tbody>\n",
       "</table>\n",
       "</div>"
      ],
      "text/plain": [
       "       No                                            Comment  \\\n",
       "10     11  I hope everyone is in good spirits I&#39;m a h...   \n",
       "147   148  Hello Guys...I Found a Way to Make Money Onlin...   \n",
       "342   343  This video will get to 2 billion just because ...   \n",
       "999  1000  OMG that looks just like a piece of the mirror...   \n",
       "811   812                  Check out this video on YouTube:﻿   \n",
       "\n",
       "     characters_length                                     Content_Parsed  \n",
       "10                 507   hope everyone   good spirit  hard work studen...  \n",
       "147                498  hello guy find way  make money online   get pa...  \n",
       "342                 95   video  get   billion    people check     hit ...  \n",
       "999                127  omg  look  like piece   mirror  harry potter  ...  \n",
       "811                 33                            check   video  youtube   "
      ]
     },
     "execution_count": 45,
     "metadata": {},
     "output_type": "execute_result"
    }
   ],
   "source": [
    "X_train = X_train[features+['Content_Parsed_6']]\n",
    "X_train = X_train.rename(columns={'Content_Parsed_6': 'Content_Parsed'})\n",
    "\n",
    "X_test = X_test[features+['Content_Parsed_6']]\n",
    "X_test = X_test.rename(columns={'Content_Parsed_6': 'Content_Parsed'})\n",
    "\n",
    "\n",
    "X_train.head()"
   ]
  },
  {
   "cell_type": "code",
   "execution_count": 46,
   "metadata": {},
   "outputs": [],
   "source": [
    "tmp_df = pd.concat([X_train, y_train], axis=1)"
   ]
  },
  {
   "cell_type": "code",
   "execution_count": 47,
   "metadata": {},
   "outputs": [
    {
     "data": {
      "text/plain": [
       "[('check', 362),\n",
       " ('video', 181),\n",
       " ('com', 172),\n",
       " ('song', 149),\n",
       " ('youtube', 145),\n",
       " ('please', 136),\n",
       " ('like', 133),\n",
       " ('subscribe', 120),\n",
       " ('love', 120),\n",
       " ('make', 113)]"
      ]
     },
     "execution_count": 47,
     "metadata": {},
     "output_type": "execute_result"
    }
   ],
   "source": [
    "Counter(\" \".join(tmp_df[\"Content_Parsed\"]).split()).most_common(10)"
   ]
  },
  {
   "cell_type": "code",
   "execution_count": 48,
   "metadata": {},
   "outputs": [
    {
     "data": {
      "text/plain": [
       "[('song', 114),\n",
       " ('love', 89),\n",
       " ('view', 56),\n",
       " ('like', 53),\n",
       " ('video', 47),\n",
       " ('br', 37),\n",
       " ('billion', 29),\n",
       " ('best', 29),\n",
       " ('katy', 26),\n",
       " ('get', 24)]"
      ]
     },
     "execution_count": 48,
     "metadata": {},
     "output_type": "execute_result"
    }
   ],
   "source": [
    "Counter(\" \".join(tmp_df[tmp_df['Class']==0][\"Content_Parsed\"]).split()).most_common(10)"
   ]
  },
  {
   "cell_type": "code",
   "execution_count": 49,
   "metadata": {},
   "outputs": [
    {
     "data": {
      "text/plain": [
       "[('check', 349),\n",
       " ('com', 170),\n",
       " ('please', 135),\n",
       " ('video', 134),\n",
       " ('youtube', 126),\n",
       " ('subscribe', 119),\n",
       " ('channel', 104),\n",
       " ('make', 99),\n",
       " ('new', 91),\n",
       " ('http', 80)]"
      ]
     },
     "execution_count": 49,
     "metadata": {},
     "output_type": "execute_result"
    }
   ],
   "source": [
    "Counter(\" \".join(tmp_df[tmp_df['Class']==1][\"Content_Parsed\"]).split()).most_common(10)"
   ]
  },
  {
   "cell_type": "markdown",
   "metadata": {},
   "source": [
    "<b>Data looks more make sense after data cleaning.</b>"
   ]
  },
  {
   "cell_type": "markdown",
   "metadata": {},
   "source": [
    "# Label Encoding\n",
    "\n",
    "Encode the target feature"
   ]
  },
  {
   "cell_type": "code",
   "execution_count": 50,
   "metadata": {},
   "outputs": [],
   "source": [
    "label_encoders = {}"
   ]
  },
  {
   "cell_type": "code",
   "execution_count": 51,
   "metadata": {},
   "outputs": [],
   "source": [
    "label_encoders[target] = LabelEncoder()        \n",
    "label_encoders[target].fit(y_train)  \n",
    "\n",
    "y_train = label_encoders[target].transform(y_train)\n",
    "y_test = label_encoders[target].transform(y_test)"
   ]
  },
  {
   "cell_type": "code",
   "execution_count": 52,
   "metadata": {},
   "outputs": [],
   "source": [
    "# filename = 'comment_data/comment_label_encoders.pickle'\n",
    "# save_as_pickle(filename,label_encoders)"
   ]
  },
  {
   "cell_type": "markdown",
   "metadata": {},
   "source": [
    "# Text representation\n",
    "\n",
    "Convert text into features"
   ]
  },
  {
   "cell_type": "code",
   "execution_count": 53,
   "metadata": {},
   "outputs": [],
   "source": [
    "count_vect = CountVectorizer()\n",
    "X_train_counts = count_vect.fit_transform(X_train['Content_Parsed'])\n",
    "X_test_counts = count_vect.transform(X_test['Content_Parsed'])\n",
    "\n",
    "tfidf_transformer = TfidfTransformer()\n",
    "X_train_tfidf = tfidf_transformer.fit_transform(X_train_counts)\n",
    "X_test_tfidf = tfidf_transformer.fit_transform(X_test_counts)"
   ]
  },
  {
   "cell_type": "code",
   "execution_count": 54,
   "metadata": {},
   "outputs": [],
   "source": [
    "# tfidf_df = pd.DataFrame(X_train_tfidf.todense(), columns=count_vect.get_feature_names())"
   ]
  },
  {
   "cell_type": "code",
   "execution_count": 55,
   "metadata": {},
   "outputs": [],
   "source": [
    "# filename = 'comment_data/count_vect.pickle'\n",
    "# save_as_pickle(filename,count_vect)\n",
    "\n",
    "# filename = 'comment_data/tfidf_transformer.pickle'\n",
    "# save_as_pickle(filename,tfidf_transformer)\n"
   ]
  },
  {
   "cell_type": "markdown",
   "metadata": {},
   "source": [
    "# Model Building"
   ]
  },
  {
   "cell_type": "code",
   "execution_count": 56,
   "metadata": {},
   "outputs": [
    {
     "name": "stdout",
     "output_type": "stream",
     "text": [
      "Parameters currently in use:\n",
      "\n",
      "{'bootstrap': True,\n",
      " 'ccp_alpha': 0.0,\n",
      " 'class_weight': None,\n",
      " 'criterion': 'gini',\n",
      " 'max_depth': None,\n",
      " 'max_features': 'auto',\n",
      " 'max_leaf_nodes': None,\n",
      " 'max_samples': None,\n",
      " 'min_impurity_decrease': 0.0,\n",
      " 'min_impurity_split': None,\n",
      " 'min_samples_leaf': 1,\n",
      " 'min_samples_split': 2,\n",
      " 'min_weight_fraction_leaf': 0.0,\n",
      " 'n_estimators': 100,\n",
      " 'n_jobs': None,\n",
      " 'oob_score': False,\n",
      " 'random_state': 42,\n",
      " 'verbose': 0,\n",
      " 'warm_start': False}\n"
     ]
    }
   ],
   "source": [
    "rf = RandomForestClassifier(random_state = 42)\n",
    "\n",
    "print('Parameters currently in use:\\n')\n",
    "pprint(rf.get_params())"
   ]
  },
  {
   "cell_type": "code",
   "execution_count": 57,
   "metadata": {},
   "outputs": [],
   "source": [
    "rf.fit(X_train_tfidf, y_train)\n",
    "predictions = rf.predict(X_test_tfidf)"
   ]
  },
  {
   "cell_type": "code",
   "execution_count": 58,
   "metadata": {},
   "outputs": [
    {
     "name": "stdout",
     "output_type": "stream",
     "text": [
      "[[124   2]\n",
      " [  6 128]]\n",
      "Accuracy: 0.9692307692307692\n",
      "              precision    recall  f1-score   support\n",
      "\n",
      "           0       0.95      0.98      0.97       126\n",
      "           1       0.98      0.96      0.97       134\n",
      "\n",
      "    accuracy                           0.97       260\n",
      "   macro avg       0.97      0.97      0.97       260\n",
      "weighted avg       0.97      0.97      0.97       260\n",
      "\n"
     ]
    }
   ],
   "source": [
    "print(confusion_matrix(y_test, predictions))\n",
    "print(\"Accuracy:\",accuracy_score(y_test, predictions))\n",
    "print(classification_report(y_test, predictions))"
   ]
  },
  {
   "cell_type": "code",
   "execution_count": 59,
   "metadata": {},
   "outputs": [],
   "source": [
    "# importances = rf.feature_importances_\n",
    "# indices = np.argsort(importances)\n",
    "\n",
    "# plt.figure(figsize=(12,10))\n",
    "# plt.title('Feature Importances')\n",
    "# plt.barh(range(len(indices)), importances[indices], color='b', align='center')\n",
    "# plt.yticks(range(len(indices)), [count_vect.get_feature_names()[i] for i in indices])\n",
    "# plt.xlabel('Relative Importance')\n",
    "# plt.show()"
   ]
  },
  {
   "cell_type": "code",
   "execution_count": 60,
   "metadata": {},
   "outputs": [],
   "source": [
    "# filename = 'comment_data/rf.pickle'\n",
    "# save_as_pickle(filename,rf)"
   ]
  },
  {
   "cell_type": "markdown",
   "metadata": {},
   "source": [
    "# SMOTE / Class Weighted "
   ]
  },
  {
   "cell_type": "code",
   "execution_count": 61,
   "metadata": {},
   "outputs": [],
   "source": [
    "smote = SMOTE()\n",
    "X_sm, y_sm = smote.fit_sample(X_train_tfidf, y_train)"
   ]
  },
  {
   "cell_type": "code",
   "execution_count": 62,
   "metadata": {},
   "outputs": [
    {
     "data": {
      "text/plain": [
       "RandomForestClassifier(bootstrap=True, ccp_alpha=0.0, class_weight=None,\n",
       "                       criterion='gini', max_depth=None, max_features='auto',\n",
       "                       max_leaf_nodes=None, max_samples=None,\n",
       "                       min_impurity_decrease=0.0, min_impurity_split=None,\n",
       "                       min_samples_leaf=1, min_samples_split=2,\n",
       "                       min_weight_fraction_leaf=0.0, n_estimators=100,\n",
       "                       n_jobs=None, oob_score=False, random_state=42, verbose=0,\n",
       "                       warm_start=False)"
      ]
     },
     "execution_count": 62,
     "metadata": {},
     "output_type": "execute_result"
    }
   ],
   "source": [
    "rf_ = RandomForestClassifier(random_state=42)\n",
    "rf_.fit(X_sm, y_sm)"
   ]
  },
  {
   "cell_type": "code",
   "execution_count": 63,
   "metadata": {},
   "outputs": [],
   "source": [
    "predictions = rf_.predict(X_test_tfidf)"
   ]
  },
  {
   "cell_type": "code",
   "execution_count": 64,
   "metadata": {},
   "outputs": [
    {
     "name": "stdout",
     "output_type": "stream",
     "text": [
      "[[123   3]\n",
      " [  6 128]]\n",
      "Accuracy: 0.9653846153846154\n",
      "              precision    recall  f1-score   support\n",
      "\n",
      "           0       0.95      0.98      0.96       126\n",
      "           1       0.98      0.96      0.97       134\n",
      "\n",
      "    accuracy                           0.97       260\n",
      "   macro avg       0.97      0.97      0.97       260\n",
      "weighted avg       0.97      0.97      0.97       260\n",
      "\n"
     ]
    }
   ],
   "source": [
    "print(confusion_matrix(y_test, predictions))\n",
    "print(\"Accuracy:\",accuracy_score(y_test, predictions))\n",
    "print(classification_report(y_test, predictions))"
   ]
  },
  {
   "cell_type": "code",
   "execution_count": 65,
   "metadata": {},
   "outputs": [],
   "source": [
    "# filename = 'comment_data/rf_.pickle'\n",
    "# save_as_pickle(filename,rf_)"
   ]
  },
  {
   "cell_type": "code",
   "execution_count": 66,
   "metadata": {},
   "outputs": [],
   "source": [
    "# importances = rf_.feature_importances_\n",
    "# indices = np.argsort(importances)\n",
    "\n",
    "# plt.figure(figsize=(12,10))\n",
    "# plt.title('Feature Importances')\n",
    "# plt.barh(range(len(indices)), importances[indices], color='b', align='center')\n",
    "# plt.yticks(range(len(indices)), [feature_names[i] for i in indices])\n",
    "# plt.xlabel('Relative Importance')\n",
    "# plt.show()"
   ]
  },
  {
   "cell_type": "markdown",
   "metadata": {},
   "source": [
    "<b>Upsampling the data does not bring too much impact.</b>"
   ]
  },
  {
   "cell_type": "code",
   "execution_count": null,
   "metadata": {},
   "outputs": [],
   "source": []
  }
 ],
 "metadata": {
  "kernelspec": {
   "display_name": "Python 3",
   "language": "python",
   "name": "python3"
  },
  "language_info": {
   "codemirror_mode": {
    "name": "ipython",
    "version": 3
   },
   "file_extension": ".py",
   "mimetype": "text/x-python",
   "name": "python",
   "nbconvert_exporter": "python",
   "pygments_lexer": "ipython3",
   "version": "3.7.6"
  }
 },
 "nbformat": 4,
 "nbformat_minor": 4
}
