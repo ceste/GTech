{
 "cells": [
  {
   "cell_type": "code",
   "execution_count": 25,
   "metadata": {},
   "outputs": [
    {
     "name": "stderr",
     "output_type": "stream",
     "text": [
      "[nltk_data] Downloading package stopwords to /home/cst/nltk_data...\n",
      "[nltk_data]   Package stopwords is already up-to-date!\n",
      "[nltk_data] Downloading package punkt to /home/cst/nltk_data...\n",
      "[nltk_data]   Package punkt is already up-to-date!\n",
      "[nltk_data] Downloading package wordnet to /home/cst/nltk_data...\n",
      "[nltk_data]   Package wordnet is already up-to-date!\n"
     ]
    }
   ],
   "source": [
    "import os\n",
    "import pandas as pd\n",
    "import numpy as np\n",
    "import matplotlib.pyplot as plt\n",
    "%matplotlib inline\n",
    "import seaborn as sns\n",
    "import re\n",
    "import nltk\n",
    "import string\n",
    "from collections import Counter\n",
    "\n",
    "from nltk.stem import WordNetLemmatizer\n",
    "nltk.download('stopwords')\n",
    "nltk.download('punkt')\n",
    "nltk.download('wordnet')\n",
    "\n",
    "from pprint import pprint\n",
    "import pickle\n",
    "from nltk.corpus import stopwords\n",
    "\n",
    "from sklearn.preprocessing import LabelEncoder\n",
    "from sklearn.model_selection import train_test_split\n",
    "from sklearn.feature_extraction.text import TfidfVectorizer\n",
    "from sklearn.feature_extraction.text import TfidfTransformer\n",
    "from sklearn.feature_extraction.text import CountVectorizer\n",
    "from sklearn.feature_selection import chi2\n",
    "from sklearn.ensemble import RandomForestClassifier\n",
    "from sklearn.metrics import confusion_matrix, roc_curve, roc_auc_score, accuracy_score, f1_score, precision_score, recall_score, classification_report, average_precision_score\n",
    "from sklearn.decomposition import PCA\n",
    "from sklearn.manifold import TSNE\n",
    "\n",
    "import imblearn\n",
    "from imblearn.over_sampling import SMOTE\n",
    "from imblearn.combine import SMOTETomek"
   ]
  },
  {
   "cell_type": "markdown",
   "metadata": {},
   "source": [
    "# Functions"
   ]
  },
  {
   "cell_type": "code",
   "execution_count": 26,
   "metadata": {},
   "outputs": [],
   "source": [
    "def save_as_pickle(filename,obj):    \n",
    "    with open(filename, 'wb') as fp:\n",
    "        pickle.dump(obj, fp, protocol=pickle.HIGHEST_PROTOCOL)\n",
    "    fp.close()"
   ]
  },
  {
   "cell_type": "code",
   "execution_count": 27,
   "metadata": {},
   "outputs": [],
   "source": [
    "if not os.path.exists('news_data'):\n",
    "    os.makedirs('news_data')"
   ]
  },
  {
   "cell_type": "code",
   "execution_count": 28,
   "metadata": {},
   "outputs": [],
   "source": [
    "xls = pd.ExcelFile('News Title.xls')\n",
    "data = xls.parse('Data Train')"
   ]
  },
  {
   "cell_type": "code",
   "execution_count": 29,
   "metadata": {},
   "outputs": [
    {
     "data": {
      "text/plain": [
       "(65535, 3)"
      ]
     },
     "execution_count": 29,
     "metadata": {},
     "output_type": "execute_result"
    }
   ],
   "source": [
    "data.shape"
   ]
  },
  {
   "cell_type": "code",
   "execution_count": 30,
   "metadata": {},
   "outputs": [
    {
     "data": {
      "text/html": [
       "<div>\n",
       "<style scoped>\n",
       "    .dataframe tbody tr th:only-of-type {\n",
       "        vertical-align: middle;\n",
       "    }\n",
       "\n",
       "    .dataframe tbody tr th {\n",
       "        vertical-align: top;\n",
       "    }\n",
       "\n",
       "    .dataframe thead th {\n",
       "        text-align: right;\n",
       "    }\n",
       "</style>\n",
       "<table border=\"1\" class=\"dataframe\">\n",
       "  <thead>\n",
       "    <tr style=\"text-align: right;\">\n",
       "      <th></th>\n",
       "      <th>No</th>\n",
       "      <th>News Title</th>\n",
       "      <th>Category</th>\n",
       "    </tr>\n",
       "  </thead>\n",
       "  <tbody>\n",
       "    <tr>\n",
       "      <th>0</th>\n",
       "      <td>1</td>\n",
       "      <td>Google+ rolls out 'Stories' for tricked out ph...</td>\n",
       "      <td>Technology</td>\n",
       "    </tr>\n",
       "    <tr>\n",
       "      <th>1</th>\n",
       "      <td>2</td>\n",
       "      <td>Dov Charney's Redeeming Quality</td>\n",
       "      <td>Business</td>\n",
       "    </tr>\n",
       "    <tr>\n",
       "      <th>2</th>\n",
       "      <td>3</td>\n",
       "      <td>White God adds Un Certain Regard to the Palm Dog</td>\n",
       "      <td>Entertainment</td>\n",
       "    </tr>\n",
       "    <tr>\n",
       "      <th>3</th>\n",
       "      <td>4</td>\n",
       "      <td>Google shows off Androids for wearables, cars,...</td>\n",
       "      <td>Technology</td>\n",
       "    </tr>\n",
       "    <tr>\n",
       "      <th>4</th>\n",
       "      <td>5</td>\n",
       "      <td>China May new bank loans at 870.8 bln yuan</td>\n",
       "      <td>Business</td>\n",
       "    </tr>\n",
       "  </tbody>\n",
       "</table>\n",
       "</div>"
      ],
      "text/plain": [
       "   No                                         News Title       Category\n",
       "0   1  Google+ rolls out 'Stories' for tricked out ph...     Technology\n",
       "1   2                    Dov Charney's Redeeming Quality       Business\n",
       "2   3   White God adds Un Certain Regard to the Palm Dog  Entertainment\n",
       "3   4  Google shows off Androids for wearables, cars,...     Technology\n",
       "4   5         China May new bank loans at 870.8 bln yuan       Business"
      ]
     },
     "execution_count": 30,
     "metadata": {},
     "output_type": "execute_result"
    }
   ],
   "source": [
    "data.head()"
   ]
  },
  {
   "cell_type": "code",
   "execution_count": 31,
   "metadata": {},
   "outputs": [
    {
     "data": {
      "text/plain": [
       "No            0\n",
       "News Title    0\n",
       "Category      0\n",
       "dtype: int64"
      ]
     },
     "execution_count": 31,
     "metadata": {},
     "output_type": "execute_result"
    }
   ],
   "source": [
    "data.isnull().sum()"
   ]
  },
  {
   "cell_type": "markdown",
   "metadata": {},
   "source": [
    "<b>No missing data</b>"
   ]
  },
  {
   "cell_type": "code",
   "execution_count": 32,
   "metadata": {},
   "outputs": [
    {
     "data": {
      "text/plain": [
       "Entertainment    23961\n",
       "Business         17707\n",
       "Technology       16776\n",
       "Medical           7091\n",
       "Name: Category, dtype: int64"
      ]
     },
     "execution_count": 32,
     "metadata": {},
     "output_type": "execute_result"
    }
   ],
   "source": [
    "data['Category'].value_counts()"
   ]
  },
  {
   "cell_type": "code",
   "execution_count": 33,
   "metadata": {},
   "outputs": [
    {
     "data": {
      "text/plain": [
       "Entertainment    0.365621\n",
       "Business         0.270192\n",
       "Technology       0.255985\n",
       "Medical          0.108202\n",
       "Name: Category, dtype: float64"
      ]
     },
     "execution_count": 33,
     "metadata": {},
     "output_type": "execute_result"
    }
   ],
   "source": [
    "data['Category'].value_counts(normalize=True)"
   ]
  },
  {
   "cell_type": "markdown",
   "metadata": {},
   "source": [
    "<b>Data is imbalance, especially for `Medical` category. </b>"
   ]
  },
  {
   "cell_type": "code",
   "execution_count": 34,
   "metadata": {},
   "outputs": [],
   "source": [
    "data['characters_length'] = data['News Title'].str.len()"
   ]
  },
  {
   "cell_type": "code",
   "execution_count": 35,
   "metadata": {},
   "outputs": [
    {
     "data": {
      "text/html": [
       "<div>\n",
       "<style scoped>\n",
       "    .dataframe tbody tr th:only-of-type {\n",
       "        vertical-align: middle;\n",
       "    }\n",
       "\n",
       "    .dataframe tbody tr th {\n",
       "        vertical-align: top;\n",
       "    }\n",
       "\n",
       "    .dataframe thead th {\n",
       "        text-align: right;\n",
       "    }\n",
       "</style>\n",
       "<table border=\"1\" class=\"dataframe\">\n",
       "  <thead>\n",
       "    <tr style=\"text-align: right;\">\n",
       "      <th></th>\n",
       "      <th>No</th>\n",
       "      <th>News Title</th>\n",
       "      <th>Category</th>\n",
       "      <th>characters_length</th>\n",
       "    </tr>\n",
       "  </thead>\n",
       "  <tbody>\n",
       "    <tr>\n",
       "      <th>0</th>\n",
       "      <td>1</td>\n",
       "      <td>Google+ rolls out 'Stories' for tricked out ph...</td>\n",
       "      <td>Technology</td>\n",
       "      <td>58</td>\n",
       "    </tr>\n",
       "    <tr>\n",
       "      <th>1</th>\n",
       "      <td>2</td>\n",
       "      <td>Dov Charney's Redeeming Quality</td>\n",
       "      <td>Business</td>\n",
       "      <td>31</td>\n",
       "    </tr>\n",
       "    <tr>\n",
       "      <th>2</th>\n",
       "      <td>3</td>\n",
       "      <td>White God adds Un Certain Regard to the Palm Dog</td>\n",
       "      <td>Entertainment</td>\n",
       "      <td>48</td>\n",
       "    </tr>\n",
       "    <tr>\n",
       "      <th>3</th>\n",
       "      <td>4</td>\n",
       "      <td>Google shows off Androids for wearables, cars,...</td>\n",
       "      <td>Technology</td>\n",
       "      <td>50</td>\n",
       "    </tr>\n",
       "    <tr>\n",
       "      <th>4</th>\n",
       "      <td>5</td>\n",
       "      <td>China May new bank loans at 870.8 bln yuan</td>\n",
       "      <td>Business</td>\n",
       "      <td>42</td>\n",
       "    </tr>\n",
       "  </tbody>\n",
       "</table>\n",
       "</div>"
      ],
      "text/plain": [
       "   No                                         News Title       Category  \\\n",
       "0   1  Google+ rolls out 'Stories' for tricked out ph...     Technology   \n",
       "1   2                    Dov Charney's Redeeming Quality       Business   \n",
       "2   3   White God adds Un Certain Regard to the Palm Dog  Entertainment   \n",
       "3   4  Google shows off Androids for wearables, cars,...     Technology   \n",
       "4   5         China May new bank loans at 870.8 bln yuan       Business   \n",
       "\n",
       "   characters_length  \n",
       "0                 58  \n",
       "1                 31  \n",
       "2                 48  \n",
       "3                 50  \n",
       "4                 42  "
      ]
     },
     "execution_count": 35,
     "metadata": {},
     "output_type": "execute_result"
    }
   ],
   "source": [
    "data.head()"
   ]
  },
  {
   "cell_type": "code",
   "execution_count": 36,
   "metadata": {},
   "outputs": [
    {
     "data": {
      "image/png": "[encoded data removed]",
      "text/plain": [
       "<Figure size 921.6x432 with 1 Axes>"
      ]
     },
     "metadata": {
      "needs_background": "light"
     },
     "output_type": "display_data"
    }
   ],
   "source": [
    "plt.figure(figsize=(12.8,6))\n",
    "sns.distplot(data['characters_length']).set_title('Characters Length Distribution');"
   ]
  },
  {
   "cell_type": "markdown",
   "metadata": {},
   "source": [
    "<b>Characters length is super skewed</b>"
   ]
  },
  {
   "cell_type": "code",
   "execution_count": 37,
   "metadata": {},
   "outputs": [
    {
     "data": {
      "image/png": "[encoded data removed]",
      "text/plain": [
       "<Figure size 921.6x432 with 1 Axes>"
      ]
     },
     "metadata": {
      "needs_background": "light"
     },
     "output_type": "display_data"
    }
   ],
   "source": [
    "plt.figure(figsize=(12.8,6))\n",
    "sns.distplot(data[data['characters_length']<np.quantile(data['characters_length'],0.95)]['characters_length']).set_title('Characters Length Distribution < 95th Percentile');"
   ]
  },
  {
   "cell_type": "code",
   "execution_count": 38,
   "metadata": {},
   "outputs": [
    {
     "name": "stdout",
     "output_type": "stream",
     "text": [
      "0.9508049134050507\n",
      "0.04919508659494926\n"
     ]
    }
   ],
   "source": [
    "print(data[data['characters_length'] <= np.quantile(data['characters_length'],0.95)].shape[0]/data.shape[0])\n",
    "print(data[data['characters_length'] > np.quantile(data['characters_length'],0.95)].shape[0]/data.shape[0])"
   ]
  },
  {
   "cell_type": "code",
   "execution_count": 39,
   "metadata": {},
   "outputs": [
    {
     "data": {
      "image/png": "[encoded data removed]",
      "text/plain": [
       "<Figure size 921.6x432 with 1 Axes>"
      ]
     },
     "metadata": {
      "needs_background": "light"
     },
     "output_type": "display_data"
    }
   ],
   "source": [
    "plt.figure(figsize=(12.8,6))\n",
    "sns.boxplot(data=data, x='Category', y='characters_length', width=.5);"
   ]
  },
  {
   "cell_type": "markdown",
   "metadata": {},
   "source": [
    "<b>Biggest outliers are in `Technology` and `Entertainment` categories.</b>"
   ]
  },
  {
   "cell_type": "code",
   "execution_count": 40,
   "metadata": {},
   "outputs": [
    {
     "data": {
      "image/png": "[encoded data removed]",
      "text/plain": [
       "<Figure size 921.6x432 with 1 Axes>"
      ]
     },
     "metadata": {
      "needs_background": "light"
     },
     "output_type": "display_data"
    }
   ],
   "source": [
    "plt.figure(figsize=(12.8,6))\n",
    "sns.boxplot(data=data[data['characters_length']<np.quantile(data['characters_length'],0.95)], x='Category', y='characters_length');"
   ]
  },
  {
   "cell_type": "markdown",
   "metadata": {},
   "source": [
    "<b>It seems that `Characters Length` does not affecting `Category`. Data looks normal if the outliers data is not included</b>"
   ]
  },
  {
   "cell_type": "code",
   "execution_count": 41,
   "metadata": {},
   "outputs": [
    {
     "data": {
      "text/plain": [
       "[('to', 13044),\n",
       " ('in', 8897),\n",
       " ('...', 8377),\n",
       " ('of', 7626),\n",
       " ('for', 6676),\n",
       " ('the', 6048),\n",
       " ('on', 4998),\n",
       " ('and', 4957),\n",
       " ('The', 3984),\n",
       " ('a', 3389)]"
      ]
     },
     "execution_count": 41,
     "metadata": {},
     "output_type": "execute_result"
    }
   ],
   "source": [
    "Counter(\" \".join(data[\"News Title\"]).split()).most_common(10)"
   ]
  },
  {
   "cell_type": "code",
   "execution_count": 42,
   "metadata": {},
   "outputs": [
    {
     "data": {
      "text/plain": [
       "[('to', 4047),\n",
       " ('for', 1940),\n",
       " ('in', 1939),\n",
       " ('...', 1796),\n",
       " ('the', 1753),\n",
       " ('of', 1630),\n",
       " ('Google', 1433),\n",
       " ('and', 1344),\n",
       " ('on', 1299),\n",
       " ('Apple', 1134)]"
      ]
     },
     "execution_count": 42,
     "metadata": {},
     "output_type": "execute_result"
    }
   ],
   "source": [
    "Counter(\" \".join(data[data['Category']=='Technology'][\"News Title\"]).split()).most_common(10)"
   ]
  },
  {
   "cell_type": "code",
   "execution_count": 43,
   "metadata": {},
   "outputs": [
    {
     "data": {
      "text/plain": [
       "[('to', 4011),\n",
       " ('in', 2849),\n",
       " ('for', 1940),\n",
       " ('of', 1666),\n",
       " ('on', 1661),\n",
       " ('...', 1508),\n",
       " ('US', 1422),\n",
       " ('the', 1030),\n",
       " ('as', 992),\n",
       " ('and', 762)]"
      ]
     },
     "execution_count": 43,
     "metadata": {},
     "output_type": "execute_result"
    }
   ],
   "source": [
    "Counter(\" \".join(data[data['Category']=='Business'][\"News Title\"]).split()).most_common(10)"
   ]
  },
  {
   "cell_type": "code",
   "execution_count": 44,
   "metadata": {},
   "outputs": [
    {
     "data": {
      "text/plain": [
       "[('...', 4363),\n",
       " ('to', 3485),\n",
       " ('of', 3294),\n",
       " ('the', 2802),\n",
       " ('in', 2798),\n",
       " ('and', 2450),\n",
       " ('The', 2439),\n",
       " ('for', 1968),\n",
       " ('on', 1661),\n",
       " ('a', 1501)]"
      ]
     },
     "execution_count": 44,
     "metadata": {},
     "output_type": "execute_result"
    }
   ],
   "source": [
    "Counter(\" \".join(data[data['Category']=='Entertainment'][\"News Title\"]).split()).most_common(10)"
   ]
  },
  {
   "cell_type": "code",
   "execution_count": 45,
   "metadata": {},
   "outputs": [
    {
     "data": {
      "text/plain": [
       "[('to', 1501),\n",
       " ('in', 1311),\n",
       " ('of', 1036),\n",
       " ('for', 828),\n",
       " ('...', 710),\n",
       " ('Ebola', 544),\n",
       " ('the', 463),\n",
       " ('and', 401),\n",
       " ('on', 377),\n",
       " ('a', 312)]"
      ]
     },
     "execution_count": 45,
     "metadata": {},
     "output_type": "execute_result"
    }
   ],
   "source": [
    "Counter(\" \".join(data[data['Category']=='Medical'][\"News Title\"]).split()).most_common(10)"
   ]
  },
  {
   "cell_type": "markdown",
   "metadata": {},
   "source": [
    "<b>Many irrelevant words dominating the most frequent appear words and it spread out across categories. Data cleansing should be able to handle this situation.</b>"
   ]
  },
  {
   "cell_type": "markdown",
   "metadata": {},
   "source": [
    "# Summary\n",
    "\n",
    "1. No missing data.\n",
    "2. Category is imbalance especially for `Medical` category.\n",
    "3. `Characters Length` does not impact the Category disribution too much.\n",
    "4. Many irrelevant words dominating the most frequent appear words and it spread out across categories."
   ]
  },
  {
   "cell_type": "markdown",
   "metadata": {},
   "source": [
    "# Data Preparation "
   ]
  },
  {
   "cell_type": "code",
   "execution_count": 46,
   "metadata": {},
   "outputs": [
    {
     "data": {
      "text/plain": [
       "['No', 'News Title', 'characters_length']"
      ]
     },
     "execution_count": 46,
     "metadata": {},
     "output_type": "execute_result"
    }
   ],
   "source": [
    "target = 'Category'\n",
    "features = [item for item in data.columns if item!=target]\n",
    "features"
   ]
  },
  {
   "cell_type": "code",
   "execution_count": 47,
   "metadata": {},
   "outputs": [],
   "source": [
    "X_train, X_test, y_train, y_test = train_test_split(data[features], \n",
    "                                                    data[target], \n",
    "                                                    test_size=0.2, \n",
    "                                                    random_state=42)"
   ]
  },
  {
   "cell_type": "code",
   "execution_count": 48,
   "metadata": {},
   "outputs": [],
   "source": [
    "# pd.concat([X_train, y_train], axis=1).to_csv('news_data/train.csv')\n",
    "# pd.concat([X_test, y_test], axis=1).to_csv('news_data/valid.csv')"
   ]
  },
  {
   "cell_type": "markdown",
   "metadata": {},
   "source": [
    "# Text cleaning"
   ]
  },
  {
   "cell_type": "code",
   "execution_count": 23,
   "metadata": {},
   "outputs": [
    {
     "data": {
      "text/html": [
       "<div>\n",
       "<style scoped>\n",
       "    .dataframe tbody tr th:only-of-type {\n",
       "        vertical-align: middle;\n",
       "    }\n",
       "\n",
       "    .dataframe tbody tr th {\n",
       "        vertical-align: top;\n",
       "    }\n",
       "\n",
       "    .dataframe thead th {\n",
       "        text-align: right;\n",
       "    }\n",
       "</style>\n",
       "<table border=\"1\" class=\"dataframe\">\n",
       "  <thead>\n",
       "    <tr style=\"text-align: right;\">\n",
       "      <th></th>\n",
       "      <th>No</th>\n",
       "      <th>News Title</th>\n",
       "      <th>characters_length</th>\n",
       "    </tr>\n",
       "  </thead>\n",
       "  <tbody>\n",
       "    <tr>\n",
       "      <th>59131</th>\n",
       "      <td>59132</td>\n",
       "      <td>IKEA US Adopts New Minimum Hourly Wage Structure</td>\n",
       "      <td>48</td>\n",
       "    </tr>\n",
       "    <tr>\n",
       "      <th>108</th>\n",
       "      <td>109</td>\n",
       "      <td>Bob Geldof pays tribute to \"beautiful\" Peaches</td>\n",
       "      <td>46</td>\n",
       "    </tr>\n",
       "    <tr>\n",
       "      <th>2440</th>\n",
       "      <td>2441</td>\n",
       "      <td>Miley Cyrus Cancels North Carolina Concert 30 ...</td>\n",
       "      <td>71</td>\n",
       "    </tr>\n",
       "    <tr>\n",
       "      <th>35243</th>\n",
       "      <td>35244</td>\n",
       "      <td>Walking Dead spoilers: Carl should fear the Ma...</td>\n",
       "      <td>53</td>\n",
       "    </tr>\n",
       "    <tr>\n",
       "      <th>53679</th>\n",
       "      <td>53680</td>\n",
       "      <td>Justin Bieber's Wild Party With Manziel, Tyres...</td>\n",
       "      <td>77</td>\n",
       "    </tr>\n",
       "  </tbody>\n",
       "</table>\n",
       "</div>"
      ],
      "text/plain": [
       "          No                                         News Title  \\\n",
       "59131  59132   IKEA US Adopts New Minimum Hourly Wage Structure   \n",
       "108      109     Bob Geldof pays tribute to \"beautiful\" Peaches   \n",
       "2440    2441  Miley Cyrus Cancels North Carolina Concert 30 ...   \n",
       "35243  35244  Walking Dead spoilers: Carl should fear the Ma...   \n",
       "53679  53680  Justin Bieber's Wild Party With Manziel, Tyres...   \n",
       "\n",
       "       characters_length  \n",
       "59131                 48  \n",
       "108                   46  \n",
       "2440                  71  \n",
       "35243                 53  \n",
       "53679                 77  "
      ]
     },
     "execution_count": 23,
     "metadata": {},
     "output_type": "execute_result"
    }
   ],
   "source": [
    "X_train.head()"
   ]
  },
  {
   "cell_type": "code",
   "execution_count": 24,
   "metadata": {},
   "outputs": [],
   "source": [
    "special_characters = string.punctuation\n",
    "\n",
    "def strip_character(dataCol):\n",
    "    r = re.compile(r'[^a-zA-Z !@#$%&*_+-=|\\:\";<>,./()[\\]{}\\']')\n",
    "    return r.sub('', dataCol)\n",
    "\n",
    "def remove_numbers(dataCol):\n",
    "    return re.sub(r'\\d+', '', dataCol)\n",
    "\n",
    "def remove_non_words(dataCol):\n",
    "    return re.sub(r\"\\W\", \" \", dataCol, flags=re.I)\n",
    "\n",
    "def remove_single_character(dataCol):\n",
    "    return re.sub(r\"\\s+[a-zA-Z]\\s+\", \" \", dataCol)"
   ]
  },
  {
   "cell_type": "code",
   "execution_count": 25,
   "metadata": {},
   "outputs": [],
   "source": [
    "def remove_possesive_pronouns(data):\n",
    "    # Remove possesive pronouns first\n",
    "    data['Content_Parsed_1'] = data['News Title'].str.replace(\"'s\", \"\")\n",
    "    data['Content_Parsed_1'] = data['Content_Parsed_1'].str.replace(\"$\", \" money \")\n",
    "    \n",
    "    return data\n",
    "\n",
    "X_train = remove_possesive_pronouns(X_train)\n",
    "X_test = remove_possesive_pronouns(X_test)"
   ]
  },
  {
   "cell_type": "code",
   "execution_count": 26,
   "metadata": {},
   "outputs": [
    {
     "data": {
      "text/html": [
       "<div>\n",
       "<style scoped>\n",
       "    .dataframe tbody tr th:only-of-type {\n",
       "        vertical-align: middle;\n",
       "    }\n",
       "\n",
       "    .dataframe tbody tr th {\n",
       "        vertical-align: top;\n",
       "    }\n",
       "\n",
       "    .dataframe thead th {\n",
       "        text-align: right;\n",
       "    }\n",
       "</style>\n",
       "<table border=\"1\" class=\"dataframe\">\n",
       "  <thead>\n",
       "    <tr style=\"text-align: right;\">\n",
       "      <th></th>\n",
       "      <th>No</th>\n",
       "      <th>News Title</th>\n",
       "      <th>characters_length</th>\n",
       "      <th>Content_Parsed_1</th>\n",
       "    </tr>\n",
       "  </thead>\n",
       "  <tbody>\n",
       "    <tr>\n",
       "      <th>59131</th>\n",
       "      <td>59132</td>\n",
       "      <td>IKEA US Adopts New Minimum Hourly Wage Structure</td>\n",
       "      <td>48</td>\n",
       "      <td>IKEA US Adopts New Minimum Hourly Wage Structure</td>\n",
       "    </tr>\n",
       "    <tr>\n",
       "      <th>108</th>\n",
       "      <td>109</td>\n",
       "      <td>Bob Geldof pays tribute to \"beautiful\" Peaches</td>\n",
       "      <td>46</td>\n",
       "      <td>Bob Geldof pays tribute to \"beautiful\" Peaches</td>\n",
       "    </tr>\n",
       "    <tr>\n",
       "      <th>2440</th>\n",
       "      <td>2441</td>\n",
       "      <td>Miley Cyrus Cancels North Carolina Concert 30 ...</td>\n",
       "      <td>71</td>\n",
       "      <td>Miley Cyrus Cancels North Carolina Concert 30 ...</td>\n",
       "    </tr>\n",
       "    <tr>\n",
       "      <th>35243</th>\n",
       "      <td>35244</td>\n",
       "      <td>Walking Dead spoilers: Carl should fear the Ma...</td>\n",
       "      <td>53</td>\n",
       "      <td>Walking Dead spoilers: Carl should fear the Ma...</td>\n",
       "    </tr>\n",
       "    <tr>\n",
       "      <th>53679</th>\n",
       "      <td>53680</td>\n",
       "      <td>Justin Bieber's Wild Party With Manziel, Tyres...</td>\n",
       "      <td>77</td>\n",
       "      <td>Justin Bieber Wild Party With Manziel, Tyrese,...</td>\n",
       "    </tr>\n",
       "  </tbody>\n",
       "</table>\n",
       "</div>"
      ],
      "text/plain": [
       "          No                                         News Title  \\\n",
       "59131  59132   IKEA US Adopts New Minimum Hourly Wage Structure   \n",
       "108      109     Bob Geldof pays tribute to \"beautiful\" Peaches   \n",
       "2440    2441  Miley Cyrus Cancels North Carolina Concert 30 ...   \n",
       "35243  35244  Walking Dead spoilers: Carl should fear the Ma...   \n",
       "53679  53680  Justin Bieber's Wild Party With Manziel, Tyres...   \n",
       "\n",
       "       characters_length                                   Content_Parsed_1  \n",
       "59131                 48   IKEA US Adopts New Minimum Hourly Wage Structure  \n",
       "108                   46     Bob Geldof pays tribute to \"beautiful\" Peaches  \n",
       "2440                  71  Miley Cyrus Cancels North Carolina Concert 30 ...  \n",
       "35243                 53  Walking Dead spoilers: Carl should fear the Ma...  \n",
       "53679                 77  Justin Bieber Wild Party With Manziel, Tyrese,...  "
      ]
     },
     "execution_count": 26,
     "metadata": {},
     "output_type": "execute_result"
    }
   ],
   "source": [
    "X_train.head()"
   ]
  },
  {
   "cell_type": "code",
   "execution_count": 27,
   "metadata": {},
   "outputs": [],
   "source": [
    "def remove_special_characters(data):\n",
    "    # Remove special characters\n",
    "    data['Content_Parsed_2'] = data['Content_Parsed_1'].str.replace(\"\\t\", \" \")\n",
    "    data['Content_Parsed_2'] = data['Content_Parsed_2'].str.replace(\"\\n\", \" \")\n",
    "    data['Content_Parsed_2'] = data['Content_Parsed_2'].str.replace('\"', '')\n",
    "    data['Content_Parsed_2'] = data['Content_Parsed_2'].apply(strip_character)\n",
    "    data['Content_Parsed_2'] = data['Content_Parsed_2'].apply(remove_numbers)\n",
    "    data['Content_Parsed_2'] = data['Content_Parsed_2'].apply(remove_non_words)\n",
    "    data['Content_Parsed_2'] = data['Content_Parsed_2'].apply(remove_single_character)\n",
    "    \n",
    "    return data\n",
    "\n",
    "X_train = remove_special_characters(X_train)\n",
    "X_test = remove_special_characters(X_test)"
   ]
  },
  {
   "cell_type": "code",
   "execution_count": 28,
   "metadata": {},
   "outputs": [
    {
     "data": {
      "text/html": [
       "<div>\n",
       "<style scoped>\n",
       "    .dataframe tbody tr th:only-of-type {\n",
       "        vertical-align: middle;\n",
       "    }\n",
       "\n",
       "    .dataframe tbody tr th {\n",
       "        vertical-align: top;\n",
       "    }\n",
       "\n",
       "    .dataframe thead th {\n",
       "        text-align: right;\n",
       "    }\n",
       "</style>\n",
       "<table border=\"1\" class=\"dataframe\">\n",
       "  <thead>\n",
       "    <tr style=\"text-align: right;\">\n",
       "      <th></th>\n",
       "      <th>No</th>\n",
       "      <th>News Title</th>\n",
       "      <th>characters_length</th>\n",
       "      <th>Content_Parsed_1</th>\n",
       "      <th>Content_Parsed_2</th>\n",
       "    </tr>\n",
       "  </thead>\n",
       "  <tbody>\n",
       "    <tr>\n",
       "      <th>59131</th>\n",
       "      <td>59132</td>\n",
       "      <td>IKEA US Adopts New Minimum Hourly Wage Structure</td>\n",
       "      <td>48</td>\n",
       "      <td>IKEA US Adopts New Minimum Hourly Wage Structure</td>\n",
       "      <td>IKEA US Adopts New Minimum Hourly Wage Structure</td>\n",
       "    </tr>\n",
       "    <tr>\n",
       "      <th>108</th>\n",
       "      <td>109</td>\n",
       "      <td>Bob Geldof pays tribute to \"beautiful\" Peaches</td>\n",
       "      <td>46</td>\n",
       "      <td>Bob Geldof pays tribute to \"beautiful\" Peaches</td>\n",
       "      <td>Bob Geldof pays tribute to beautiful Peaches</td>\n",
       "    </tr>\n",
       "    <tr>\n",
       "      <th>2440</th>\n",
       "      <td>2441</td>\n",
       "      <td>Miley Cyrus Cancels North Carolina Concert 30 ...</td>\n",
       "      <td>71</td>\n",
       "      <td>Miley Cyrus Cancels North Carolina Concert 30 ...</td>\n",
       "      <td>Miley Cyrus Cancels North Carolina Concert 30 ...</td>\n",
       "    </tr>\n",
       "    <tr>\n",
       "      <th>35243</th>\n",
       "      <td>35244</td>\n",
       "      <td>Walking Dead spoilers: Carl should fear the Ma...</td>\n",
       "      <td>53</td>\n",
       "      <td>Walking Dead spoilers: Carl should fear the Ma...</td>\n",
       "      <td>Walking Dead spoilers: Carl should fear the Ma...</td>\n",
       "    </tr>\n",
       "    <tr>\n",
       "      <th>53679</th>\n",
       "      <td>53680</td>\n",
       "      <td>Justin Bieber's Wild Party With Manziel, Tyres...</td>\n",
       "      <td>77</td>\n",
       "      <td>Justin Bieber Wild Party With Manziel, Tyrese,...</td>\n",
       "      <td>Justin Bieber Wild Party With Manziel, Tyrese,...</td>\n",
       "    </tr>\n",
       "  </tbody>\n",
       "</table>\n",
       "</div>"
      ],
      "text/plain": [
       "          No                                         News Title  \\\n",
       "59131  59132   IKEA US Adopts New Minimum Hourly Wage Structure   \n",
       "108      109     Bob Geldof pays tribute to \"beautiful\" Peaches   \n",
       "2440    2441  Miley Cyrus Cancels North Carolina Concert 30 ...   \n",
       "35243  35244  Walking Dead spoilers: Carl should fear the Ma...   \n",
       "53679  53680  Justin Bieber's Wild Party With Manziel, Tyres...   \n",
       "\n",
       "       characters_length                                   Content_Parsed_1  \\\n",
       "59131                 48   IKEA US Adopts New Minimum Hourly Wage Structure   \n",
       "108                   46     Bob Geldof pays tribute to \"beautiful\" Peaches   \n",
       "2440                  71  Miley Cyrus Cancels North Carolina Concert 30 ...   \n",
       "35243                 53  Walking Dead spoilers: Carl should fear the Ma...   \n",
       "53679                 77  Justin Bieber Wild Party With Manziel, Tyrese,...   \n",
       "\n",
       "                                        Content_Parsed_2  \n",
       "59131   IKEA US Adopts New Minimum Hourly Wage Structure  \n",
       "108         Bob Geldof pays tribute to beautiful Peaches  \n",
       "2440   Miley Cyrus Cancels North Carolina Concert 30 ...  \n",
       "35243  Walking Dead spoilers: Carl should fear the Ma...  \n",
       "53679  Justin Bieber Wild Party With Manziel, Tyrese,...  "
      ]
     },
     "execution_count": 28,
     "metadata": {},
     "output_type": "execute_result"
    }
   ],
   "source": [
    "X_train.head()"
   ]
  },
  {
   "cell_type": "markdown",
   "metadata": {},
   "source": [
    "<b>Some special characters still exist.</b>"
   ]
  },
  {
   "cell_type": "code",
   "execution_count": 29,
   "metadata": {},
   "outputs": [],
   "source": [
    "def remove_special_character_2(data):\n",
    "    \n",
    "    # Remove left special characters    \n",
    "    data['Content_Parsed_3'] = data['Content_Parsed_2']\n",
    "    additional_special_characters = list(\"?:!.,;'+\")\n",
    "    for item in additional_special_characters:\n",
    "        data['Content_Parsed_3'] = data['Content_Parsed_3'].str.replace(item, '')\n",
    "    \n",
    "    return data\n",
    "\n",
    "X_train = remove_special_character_2(X_train)\n",
    "X_test = remove_special_character_2(X_test)"
   ]
  },
  {
   "cell_type": "code",
   "execution_count": 30,
   "metadata": {},
   "outputs": [
    {
     "data": {
      "text/html": [
       "<div>\n",
       "<style scoped>\n",
       "    .dataframe tbody tr th:only-of-type {\n",
       "        vertical-align: middle;\n",
       "    }\n",
       "\n",
       "    .dataframe tbody tr th {\n",
       "        vertical-align: top;\n",
       "    }\n",
       "\n",
       "    .dataframe thead th {\n",
       "        text-align: right;\n",
       "    }\n",
       "</style>\n",
       "<table border=\"1\" class=\"dataframe\">\n",
       "  <thead>\n",
       "    <tr style=\"text-align: right;\">\n",
       "      <th></th>\n",
       "      <th>No</th>\n",
       "      <th>News Title</th>\n",
       "      <th>characters_length</th>\n",
       "      <th>Content_Parsed_1</th>\n",
       "      <th>Content_Parsed_2</th>\n",
       "      <th>Content_Parsed_3</th>\n",
       "    </tr>\n",
       "  </thead>\n",
       "  <tbody>\n",
       "    <tr>\n",
       "      <th>59131</th>\n",
       "      <td>59132</td>\n",
       "      <td>IKEA US Adopts New Minimum Hourly Wage Structure</td>\n",
       "      <td>48</td>\n",
       "      <td>IKEA US Adopts New Minimum Hourly Wage Structure</td>\n",
       "      <td>IKEA US Adopts New Minimum Hourly Wage Structure</td>\n",
       "      <td>IKEA US Adopts New Minimum Hourly Wage Structure</td>\n",
       "    </tr>\n",
       "    <tr>\n",
       "      <th>108</th>\n",
       "      <td>109</td>\n",
       "      <td>Bob Geldof pays tribute to \"beautiful\" Peaches</td>\n",
       "      <td>46</td>\n",
       "      <td>Bob Geldof pays tribute to \"beautiful\" Peaches</td>\n",
       "      <td>Bob Geldof pays tribute to beautiful Peaches</td>\n",
       "      <td>Bob Geldof pays tribute to beautiful Peaches</td>\n",
       "    </tr>\n",
       "    <tr>\n",
       "      <th>2440</th>\n",
       "      <td>2441</td>\n",
       "      <td>Miley Cyrus Cancels North Carolina Concert 30 ...</td>\n",
       "      <td>71</td>\n",
       "      <td>Miley Cyrus Cancels North Carolina Concert 30 ...</td>\n",
       "      <td>Miley Cyrus Cancels North Carolina Concert 30 ...</td>\n",
       "      <td>Miley Cyrus Cancels North Carolina Concert 30 ...</td>\n",
       "    </tr>\n",
       "    <tr>\n",
       "      <th>35243</th>\n",
       "      <td>35244</td>\n",
       "      <td>Walking Dead spoilers: Carl should fear the Ma...</td>\n",
       "      <td>53</td>\n",
       "      <td>Walking Dead spoilers: Carl should fear the Ma...</td>\n",
       "      <td>Walking Dead spoilers: Carl should fear the Ma...</td>\n",
       "      <td>Walking Dead spoilers Carl should fear the Mar...</td>\n",
       "    </tr>\n",
       "    <tr>\n",
       "      <th>53679</th>\n",
       "      <td>53680</td>\n",
       "      <td>Justin Bieber's Wild Party With Manziel, Tyres...</td>\n",
       "      <td>77</td>\n",
       "      <td>Justin Bieber Wild Party With Manziel, Tyrese,...</td>\n",
       "      <td>Justin Bieber Wild Party With Manziel, Tyrese,...</td>\n",
       "      <td>Justin Bieber Wild Party With Manziel Tyrese M...</td>\n",
       "    </tr>\n",
       "  </tbody>\n",
       "</table>\n",
       "</div>"
      ],
      "text/plain": [
       "          No                                         News Title  \\\n",
       "59131  59132   IKEA US Adopts New Minimum Hourly Wage Structure   \n",
       "108      109     Bob Geldof pays tribute to \"beautiful\" Peaches   \n",
       "2440    2441  Miley Cyrus Cancels North Carolina Concert 30 ...   \n",
       "35243  35244  Walking Dead spoilers: Carl should fear the Ma...   \n",
       "53679  53680  Justin Bieber's Wild Party With Manziel, Tyres...   \n",
       "\n",
       "       characters_length                                   Content_Parsed_1  \\\n",
       "59131                 48   IKEA US Adopts New Minimum Hourly Wage Structure   \n",
       "108                   46     Bob Geldof pays tribute to \"beautiful\" Peaches   \n",
       "2440                  71  Miley Cyrus Cancels North Carolina Concert 30 ...   \n",
       "35243                 53  Walking Dead spoilers: Carl should fear the Ma...   \n",
       "53679                 77  Justin Bieber Wild Party With Manziel, Tyrese,...   \n",
       "\n",
       "                                        Content_Parsed_2  \\\n",
       "59131   IKEA US Adopts New Minimum Hourly Wage Structure   \n",
       "108         Bob Geldof pays tribute to beautiful Peaches   \n",
       "2440   Miley Cyrus Cancels North Carolina Concert 30 ...   \n",
       "35243  Walking Dead spoilers: Carl should fear the Ma...   \n",
       "53679  Justin Bieber Wild Party With Manziel, Tyrese,...   \n",
       "\n",
       "                                        Content_Parsed_3  \n",
       "59131   IKEA US Adopts New Minimum Hourly Wage Structure  \n",
       "108         Bob Geldof pays tribute to beautiful Peaches  \n",
       "2440   Miley Cyrus Cancels North Carolina Concert 30 ...  \n",
       "35243  Walking Dead spoilers Carl should fear the Mar...  \n",
       "53679  Justin Bieber Wild Party With Manziel Tyrese M...  "
      ]
     },
     "execution_count": 30,
     "metadata": {},
     "output_type": "execute_result"
    }
   ],
   "source": [
    "X_train.head()"
   ]
  },
  {
   "cell_type": "code",
   "execution_count": 31,
   "metadata": {},
   "outputs": [],
   "source": [
    "def lower_text(data):\n",
    "    data['Content_Parsed_4'] = data['Content_Parsed_3'].str.lower()\n",
    "    return data\n",
    "\n",
    "X_train = lower_text(X_train)\n",
    "X_test = lower_text(X_test)"
   ]
  },
  {
   "cell_type": "code",
   "execution_count": 32,
   "metadata": {},
   "outputs": [
    {
     "data": {
      "text/html": [
       "<div>\n",
       "<style scoped>\n",
       "    .dataframe tbody tr th:only-of-type {\n",
       "        vertical-align: middle;\n",
       "    }\n",
       "\n",
       "    .dataframe tbody tr th {\n",
       "        vertical-align: top;\n",
       "    }\n",
       "\n",
       "    .dataframe thead th {\n",
       "        text-align: right;\n",
       "    }\n",
       "</style>\n",
       "<table border=\"1\" class=\"dataframe\">\n",
       "  <thead>\n",
       "    <tr style=\"text-align: right;\">\n",
       "      <th></th>\n",
       "      <th>No</th>\n",
       "      <th>News Title</th>\n",
       "      <th>characters_length</th>\n",
       "      <th>Content_Parsed_1</th>\n",
       "      <th>Content_Parsed_2</th>\n",
       "      <th>Content_Parsed_3</th>\n",
       "      <th>Content_Parsed_4</th>\n",
       "    </tr>\n",
       "  </thead>\n",
       "  <tbody>\n",
       "    <tr>\n",
       "      <th>59131</th>\n",
       "      <td>59132</td>\n",
       "      <td>IKEA US Adopts New Minimum Hourly Wage Structure</td>\n",
       "      <td>48</td>\n",
       "      <td>IKEA US Adopts New Minimum Hourly Wage Structure</td>\n",
       "      <td>IKEA US Adopts New Minimum Hourly Wage Structure</td>\n",
       "      <td>IKEA US Adopts New Minimum Hourly Wage Structure</td>\n",
       "      <td>ikea us adopts new minimum hourly wage structure</td>\n",
       "    </tr>\n",
       "    <tr>\n",
       "      <th>108</th>\n",
       "      <td>109</td>\n",
       "      <td>Bob Geldof pays tribute to \"beautiful\" Peaches</td>\n",
       "      <td>46</td>\n",
       "      <td>Bob Geldof pays tribute to \"beautiful\" Peaches</td>\n",
       "      <td>Bob Geldof pays tribute to beautiful Peaches</td>\n",
       "      <td>Bob Geldof pays tribute to beautiful Peaches</td>\n",
       "      <td>bob geldof pays tribute to beautiful peaches</td>\n",
       "    </tr>\n",
       "    <tr>\n",
       "      <th>2440</th>\n",
       "      <td>2441</td>\n",
       "      <td>Miley Cyrus Cancels North Carolina Concert 30 ...</td>\n",
       "      <td>71</td>\n",
       "      <td>Miley Cyrus Cancels North Carolina Concert 30 ...</td>\n",
       "      <td>Miley Cyrus Cancels North Carolina Concert 30 ...</td>\n",
       "      <td>Miley Cyrus Cancels North Carolina Concert 30 ...</td>\n",
       "      <td>miley cyrus cancels north carolina concert 30 ...</td>\n",
       "    </tr>\n",
       "    <tr>\n",
       "      <th>35243</th>\n",
       "      <td>35244</td>\n",
       "      <td>Walking Dead spoilers: Carl should fear the Ma...</td>\n",
       "      <td>53</td>\n",
       "      <td>Walking Dead spoilers: Carl should fear the Ma...</td>\n",
       "      <td>Walking Dead spoilers: Carl should fear the Ma...</td>\n",
       "      <td>Walking Dead spoilers Carl should fear the Mar...</td>\n",
       "      <td>walking dead spoilers carl should fear the mar...</td>\n",
       "    </tr>\n",
       "    <tr>\n",
       "      <th>53679</th>\n",
       "      <td>53680</td>\n",
       "      <td>Justin Bieber's Wild Party With Manziel, Tyres...</td>\n",
       "      <td>77</td>\n",
       "      <td>Justin Bieber Wild Party With Manziel, Tyrese,...</td>\n",
       "      <td>Justin Bieber Wild Party With Manziel, Tyrese,...</td>\n",
       "      <td>Justin Bieber Wild Party With Manziel Tyrese M...</td>\n",
       "      <td>justin bieber wild party with manziel tyrese m...</td>\n",
       "    </tr>\n",
       "  </tbody>\n",
       "</table>\n",
       "</div>"
      ],
      "text/plain": [
       "          No                                         News Title  \\\n",
       "59131  59132   IKEA US Adopts New Minimum Hourly Wage Structure   \n",
       "108      109     Bob Geldof pays tribute to \"beautiful\" Peaches   \n",
       "2440    2441  Miley Cyrus Cancels North Carolina Concert 30 ...   \n",
       "35243  35244  Walking Dead spoilers: Carl should fear the Ma...   \n",
       "53679  53680  Justin Bieber's Wild Party With Manziel, Tyres...   \n",
       "\n",
       "       characters_length                                   Content_Parsed_1  \\\n",
       "59131                 48   IKEA US Adopts New Minimum Hourly Wage Structure   \n",
       "108                   46     Bob Geldof pays tribute to \"beautiful\" Peaches   \n",
       "2440                  71  Miley Cyrus Cancels North Carolina Concert 30 ...   \n",
       "35243                 53  Walking Dead spoilers: Carl should fear the Ma...   \n",
       "53679                 77  Justin Bieber Wild Party With Manziel, Tyrese,...   \n",
       "\n",
       "                                        Content_Parsed_2  \\\n",
       "59131   IKEA US Adopts New Minimum Hourly Wage Structure   \n",
       "108         Bob Geldof pays tribute to beautiful Peaches   \n",
       "2440   Miley Cyrus Cancels North Carolina Concert 30 ...   \n",
       "35243  Walking Dead spoilers: Carl should fear the Ma...   \n",
       "53679  Justin Bieber Wild Party With Manziel, Tyrese,...   \n",
       "\n",
       "                                        Content_Parsed_3  \\\n",
       "59131   IKEA US Adopts New Minimum Hourly Wage Structure   \n",
       "108         Bob Geldof pays tribute to beautiful Peaches   \n",
       "2440   Miley Cyrus Cancels North Carolina Concert 30 ...   \n",
       "35243  Walking Dead spoilers Carl should fear the Mar...   \n",
       "53679  Justin Bieber Wild Party With Manziel Tyrese M...   \n",
       "\n",
       "                                        Content_Parsed_4  \n",
       "59131   ikea us adopts new minimum hourly wage structure  \n",
       "108         bob geldof pays tribute to beautiful peaches  \n",
       "2440   miley cyrus cancels north carolina concert 30 ...  \n",
       "35243  walking dead spoilers carl should fear the mar...  \n",
       "53679  justin bieber wild party with manziel tyrese m...  "
      ]
     },
     "execution_count": 32,
     "metadata": {},
     "output_type": "execute_result"
    }
   ],
   "source": [
    "X_train.head()"
   ]
  },
  {
   "cell_type": "code",
   "execution_count": 33,
   "metadata": {},
   "outputs": [],
   "source": [
    "def stemming_lemmatization(data):\n",
    "    \n",
    "    wordnet_lemmatizer = WordNetLemmatizer()\n",
    "    \n",
    "    nrows = len(data)\n",
    "    lemmatized_text_list = []\n",
    "\n",
    "    for row in range(0, nrows):\n",
    "\n",
    "        # Create an empty list containing lemmatized words\n",
    "        lemmatized_list = []\n",
    "\n",
    "        # Save the text and its words into an object\n",
    "        text = data.iloc[row]['Content_Parsed_4']\n",
    "        text_words = text.split(\" \")\n",
    "\n",
    "        # Iterate through every word to lemmatize\n",
    "        for word in text_words:\n",
    "            lemmatized_list.append(wordnet_lemmatizer.lemmatize(word, pos=\"v\"))\n",
    "\n",
    "        # Join the list\n",
    "        lemmatized_text = \" \".join(lemmatized_list)\n",
    "\n",
    "        # Append to the list containing the texts\n",
    "        lemmatized_text_list.append(lemmatized_text)\n",
    "    \n",
    "    data['Content_Parsed_5'] = lemmatized_text_list\n",
    "    \n",
    "    return data"
   ]
  },
  {
   "cell_type": "code",
   "execution_count": 34,
   "metadata": {},
   "outputs": [],
   "source": [
    "X_train = stemming_lemmatization(X_train)\n",
    "X_test = stemming_lemmatization(X_test)"
   ]
  },
  {
   "cell_type": "code",
   "execution_count": 35,
   "metadata": {},
   "outputs": [
    {
     "data": {
      "text/html": [
       "<div>\n",
       "<style scoped>\n",
       "    .dataframe tbody tr th:only-of-type {\n",
       "        vertical-align: middle;\n",
       "    }\n",
       "\n",
       "    .dataframe tbody tr th {\n",
       "        vertical-align: top;\n",
       "    }\n",
       "\n",
       "    .dataframe thead th {\n",
       "        text-align: right;\n",
       "    }\n",
       "</style>\n",
       "<table border=\"1\" class=\"dataframe\">\n",
       "  <thead>\n",
       "    <tr style=\"text-align: right;\">\n",
       "      <th></th>\n",
       "      <th>No</th>\n",
       "      <th>News Title</th>\n",
       "      <th>characters_length</th>\n",
       "      <th>Content_Parsed_1</th>\n",
       "      <th>Content_Parsed_2</th>\n",
       "      <th>Content_Parsed_3</th>\n",
       "      <th>Content_Parsed_4</th>\n",
       "      <th>Content_Parsed_5</th>\n",
       "    </tr>\n",
       "  </thead>\n",
       "  <tbody>\n",
       "    <tr>\n",
       "      <th>59131</th>\n",
       "      <td>59132</td>\n",
       "      <td>IKEA US Adopts New Minimum Hourly Wage Structure</td>\n",
       "      <td>48</td>\n",
       "      <td>IKEA US Adopts New Minimum Hourly Wage Structure</td>\n",
       "      <td>IKEA US Adopts New Minimum Hourly Wage Structure</td>\n",
       "      <td>IKEA US Adopts New Minimum Hourly Wage Structure</td>\n",
       "      <td>ikea us adopts new minimum hourly wage structure</td>\n",
       "      <td>ikea us adopt new minimum hourly wage structure</td>\n",
       "    </tr>\n",
       "    <tr>\n",
       "      <th>108</th>\n",
       "      <td>109</td>\n",
       "      <td>Bob Geldof pays tribute to \"beautiful\" Peaches</td>\n",
       "      <td>46</td>\n",
       "      <td>Bob Geldof pays tribute to \"beautiful\" Peaches</td>\n",
       "      <td>Bob Geldof pays tribute to beautiful Peaches</td>\n",
       "      <td>Bob Geldof pays tribute to beautiful Peaches</td>\n",
       "      <td>bob geldof pays tribute to beautiful peaches</td>\n",
       "      <td>bob geldof pay tribute to beautiful peach</td>\n",
       "    </tr>\n",
       "    <tr>\n",
       "      <th>2440</th>\n",
       "      <td>2441</td>\n",
       "      <td>Miley Cyrus Cancels North Carolina Concert 30 ...</td>\n",
       "      <td>71</td>\n",
       "      <td>Miley Cyrus Cancels North Carolina Concert 30 ...</td>\n",
       "      <td>Miley Cyrus Cancels North Carolina Concert 30 ...</td>\n",
       "      <td>Miley Cyrus Cancels North Carolina Concert 30 ...</td>\n",
       "      <td>miley cyrus cancels north carolina concert 30 ...</td>\n",
       "      <td>miley cyrus cancel north carolina concert 30 m...</td>\n",
       "    </tr>\n",
       "    <tr>\n",
       "      <th>35243</th>\n",
       "      <td>35244</td>\n",
       "      <td>Walking Dead spoilers: Carl should fear the Ma...</td>\n",
       "      <td>53</td>\n",
       "      <td>Walking Dead spoilers: Carl should fear the Ma...</td>\n",
       "      <td>Walking Dead spoilers: Carl should fear the Ma...</td>\n",
       "      <td>Walking Dead spoilers Carl should fear the Mar...</td>\n",
       "      <td>walking dead spoilers carl should fear the mar...</td>\n",
       "      <td>walk dead spoilers carl should fear the marauders</td>\n",
       "    </tr>\n",
       "    <tr>\n",
       "      <th>53679</th>\n",
       "      <td>53680</td>\n",
       "      <td>Justin Bieber's Wild Party With Manziel, Tyres...</td>\n",
       "      <td>77</td>\n",
       "      <td>Justin Bieber Wild Party With Manziel, Tyrese,...</td>\n",
       "      <td>Justin Bieber Wild Party With Manziel, Tyrese,...</td>\n",
       "      <td>Justin Bieber Wild Party With Manziel Tyrese M...</td>\n",
       "      <td>justin bieber wild party with manziel tyrese m...</td>\n",
       "      <td>justin bieber wild party with manziel tyrese m...</td>\n",
       "    </tr>\n",
       "  </tbody>\n",
       "</table>\n",
       "</div>"
      ],
      "text/plain": [
       "          No                                         News Title  \\\n",
       "59131  59132   IKEA US Adopts New Minimum Hourly Wage Structure   \n",
       "108      109     Bob Geldof pays tribute to \"beautiful\" Peaches   \n",
       "2440    2441  Miley Cyrus Cancels North Carolina Concert 30 ...   \n",
       "35243  35244  Walking Dead spoilers: Carl should fear the Ma...   \n",
       "53679  53680  Justin Bieber's Wild Party With Manziel, Tyres...   \n",
       "\n",
       "       characters_length                                   Content_Parsed_1  \\\n",
       "59131                 48   IKEA US Adopts New Minimum Hourly Wage Structure   \n",
       "108                   46     Bob Geldof pays tribute to \"beautiful\" Peaches   \n",
       "2440                  71  Miley Cyrus Cancels North Carolina Concert 30 ...   \n",
       "35243                 53  Walking Dead spoilers: Carl should fear the Ma...   \n",
       "53679                 77  Justin Bieber Wild Party With Manziel, Tyrese,...   \n",
       "\n",
       "                                        Content_Parsed_2  \\\n",
       "59131   IKEA US Adopts New Minimum Hourly Wage Structure   \n",
       "108         Bob Geldof pays tribute to beautiful Peaches   \n",
       "2440   Miley Cyrus Cancels North Carolina Concert 30 ...   \n",
       "35243  Walking Dead spoilers: Carl should fear the Ma...   \n",
       "53679  Justin Bieber Wild Party With Manziel, Tyrese,...   \n",
       "\n",
       "                                        Content_Parsed_3  \\\n",
       "59131   IKEA US Adopts New Minimum Hourly Wage Structure   \n",
       "108         Bob Geldof pays tribute to beautiful Peaches   \n",
       "2440   Miley Cyrus Cancels North Carolina Concert 30 ...   \n",
       "35243  Walking Dead spoilers Carl should fear the Mar...   \n",
       "53679  Justin Bieber Wild Party With Manziel Tyrese M...   \n",
       "\n",
       "                                        Content_Parsed_4  \\\n",
       "59131   ikea us adopts new minimum hourly wage structure   \n",
       "108         bob geldof pays tribute to beautiful peaches   \n",
       "2440   miley cyrus cancels north carolina concert 30 ...   \n",
       "35243  walking dead spoilers carl should fear the mar...   \n",
       "53679  justin bieber wild party with manziel tyrese m...   \n",
       "\n",
       "                                        Content_Parsed_5  \n",
       "59131    ikea us adopt new minimum hourly wage structure  \n",
       "108            bob geldof pay tribute to beautiful peach  \n",
       "2440   miley cyrus cancel north carolina concert 30 m...  \n",
       "35243  walk dead spoilers carl should fear the marauders  \n",
       "53679  justin bieber wild party with manziel tyrese m...  "
      ]
     },
     "execution_count": 35,
     "metadata": {},
     "output_type": "execute_result"
    }
   ],
   "source": [
    "X_train.head()"
   ]
  },
  {
   "cell_type": "code",
   "execution_count": 36,
   "metadata": {},
   "outputs": [],
   "source": [
    "def remove_stop_words(data):\n",
    "    \n",
    "    stop_words = list(stopwords.words('english'))\n",
    "    \n",
    "    data['Content_Parsed_6'] = data['Content_Parsed_5']\n",
    "\n",
    "    for stop_word in stop_words:\n",
    "\n",
    "        regex_stopword = r\"\\b\" + stop_word + r\"\\b\"\n",
    "        data['Content_Parsed_6'] = data['Content_Parsed_6'].str.replace(regex_stopword, '')\n",
    "        \n",
    "    return data"
   ]
  },
  {
   "cell_type": "code",
   "execution_count": 37,
   "metadata": {},
   "outputs": [],
   "source": [
    "X_train = remove_stop_words(X_train)\n",
    "X_test = remove_stop_words(X_test)"
   ]
  },
  {
   "cell_type": "code",
   "execution_count": 38,
   "metadata": {},
   "outputs": [
    {
     "data": {
      "text/html": [
       "<div>\n",
       "<style scoped>\n",
       "    .dataframe tbody tr th:only-of-type {\n",
       "        vertical-align: middle;\n",
       "    }\n",
       "\n",
       "    .dataframe tbody tr th {\n",
       "        vertical-align: top;\n",
       "    }\n",
       "\n",
       "    .dataframe thead th {\n",
       "        text-align: right;\n",
       "    }\n",
       "</style>\n",
       "<table border=\"1\" class=\"dataframe\">\n",
       "  <thead>\n",
       "    <tr style=\"text-align: right;\">\n",
       "      <th></th>\n",
       "      <th>No</th>\n",
       "      <th>News Title</th>\n",
       "      <th>characters_length</th>\n",
       "      <th>Content_Parsed_1</th>\n",
       "      <th>Content_Parsed_2</th>\n",
       "      <th>Content_Parsed_3</th>\n",
       "      <th>Content_Parsed_4</th>\n",
       "      <th>Content_Parsed_5</th>\n",
       "      <th>Content_Parsed_6</th>\n",
       "    </tr>\n",
       "  </thead>\n",
       "  <tbody>\n",
       "    <tr>\n",
       "      <th>59131</th>\n",
       "      <td>59132</td>\n",
       "      <td>IKEA US Adopts New Minimum Hourly Wage Structure</td>\n",
       "      <td>48</td>\n",
       "      <td>IKEA US Adopts New Minimum Hourly Wage Structure</td>\n",
       "      <td>IKEA US Adopts New Minimum Hourly Wage Structure</td>\n",
       "      <td>IKEA US Adopts New Minimum Hourly Wage Structure</td>\n",
       "      <td>ikea us adopts new minimum hourly wage structure</td>\n",
       "      <td>ikea us adopt new minimum hourly wage structure</td>\n",
       "      <td>ikea us adopt new minimum hourly wage structure</td>\n",
       "    </tr>\n",
       "    <tr>\n",
       "      <th>108</th>\n",
       "      <td>109</td>\n",
       "      <td>Bob Geldof pays tribute to \"beautiful\" Peaches</td>\n",
       "      <td>46</td>\n",
       "      <td>Bob Geldof pays tribute to \"beautiful\" Peaches</td>\n",
       "      <td>Bob Geldof pays tribute to beautiful Peaches</td>\n",
       "      <td>Bob Geldof pays tribute to beautiful Peaches</td>\n",
       "      <td>bob geldof pays tribute to beautiful peaches</td>\n",
       "      <td>bob geldof pay tribute to beautiful peach</td>\n",
       "      <td>bob geldof pay tribute  beautiful peach</td>\n",
       "    </tr>\n",
       "    <tr>\n",
       "      <th>2440</th>\n",
       "      <td>2441</td>\n",
       "      <td>Miley Cyrus Cancels North Carolina Concert 30 ...</td>\n",
       "      <td>71</td>\n",
       "      <td>Miley Cyrus Cancels North Carolina Concert 30 ...</td>\n",
       "      <td>Miley Cyrus Cancels North Carolina Concert 30 ...</td>\n",
       "      <td>Miley Cyrus Cancels North Carolina Concert 30 ...</td>\n",
       "      <td>miley cyrus cancels north carolina concert 30 ...</td>\n",
       "      <td>miley cyrus cancel north carolina concert 30 m...</td>\n",
       "      <td>miley cyrus cancel north carolina concert 30 m...</td>\n",
       "    </tr>\n",
       "    <tr>\n",
       "      <th>35243</th>\n",
       "      <td>35244</td>\n",
       "      <td>Walking Dead spoilers: Carl should fear the Ma...</td>\n",
       "      <td>53</td>\n",
       "      <td>Walking Dead spoilers: Carl should fear the Ma...</td>\n",
       "      <td>Walking Dead spoilers: Carl should fear the Ma...</td>\n",
       "      <td>Walking Dead spoilers Carl should fear the Mar...</td>\n",
       "      <td>walking dead spoilers carl should fear the mar...</td>\n",
       "      <td>walk dead spoilers carl should fear the marauders</td>\n",
       "      <td>walk dead spoilers carl  fear  marauders</td>\n",
       "    </tr>\n",
       "    <tr>\n",
       "      <th>53679</th>\n",
       "      <td>53680</td>\n",
       "      <td>Justin Bieber's Wild Party With Manziel, Tyres...</td>\n",
       "      <td>77</td>\n",
       "      <td>Justin Bieber Wild Party With Manziel, Tyrese,...</td>\n",
       "      <td>Justin Bieber Wild Party With Manziel, Tyrese,...</td>\n",
       "      <td>Justin Bieber Wild Party With Manziel Tyrese M...</td>\n",
       "      <td>justin bieber wild party with manziel tyrese m...</td>\n",
       "      <td>justin bieber wild party with manziel tyrese m...</td>\n",
       "      <td>justin bieber wild party  manziel tyrese maywe...</td>\n",
       "    </tr>\n",
       "  </tbody>\n",
       "</table>\n",
       "</div>"
      ],
      "text/plain": [
       "          No                                         News Title  \\\n",
       "59131  59132   IKEA US Adopts New Minimum Hourly Wage Structure   \n",
       "108      109     Bob Geldof pays tribute to \"beautiful\" Peaches   \n",
       "2440    2441  Miley Cyrus Cancels North Carolina Concert 30 ...   \n",
       "35243  35244  Walking Dead spoilers: Carl should fear the Ma...   \n",
       "53679  53680  Justin Bieber's Wild Party With Manziel, Tyres...   \n",
       "\n",
       "       characters_length                                   Content_Parsed_1  \\\n",
       "59131                 48   IKEA US Adopts New Minimum Hourly Wage Structure   \n",
       "108                   46     Bob Geldof pays tribute to \"beautiful\" Peaches   \n",
       "2440                  71  Miley Cyrus Cancels North Carolina Concert 30 ...   \n",
       "35243                 53  Walking Dead spoilers: Carl should fear the Ma...   \n",
       "53679                 77  Justin Bieber Wild Party With Manziel, Tyrese,...   \n",
       "\n",
       "                                        Content_Parsed_2  \\\n",
       "59131   IKEA US Adopts New Minimum Hourly Wage Structure   \n",
       "108         Bob Geldof pays tribute to beautiful Peaches   \n",
       "2440   Miley Cyrus Cancels North Carolina Concert 30 ...   \n",
       "35243  Walking Dead spoilers: Carl should fear the Ma...   \n",
       "53679  Justin Bieber Wild Party With Manziel, Tyrese,...   \n",
       "\n",
       "                                        Content_Parsed_3  \\\n",
       "59131   IKEA US Adopts New Minimum Hourly Wage Structure   \n",
       "108         Bob Geldof pays tribute to beautiful Peaches   \n",
       "2440   Miley Cyrus Cancels North Carolina Concert 30 ...   \n",
       "35243  Walking Dead spoilers Carl should fear the Mar...   \n",
       "53679  Justin Bieber Wild Party With Manziel Tyrese M...   \n",
       "\n",
       "                                        Content_Parsed_4  \\\n",
       "59131   ikea us adopts new minimum hourly wage structure   \n",
       "108         bob geldof pays tribute to beautiful peaches   \n",
       "2440   miley cyrus cancels north carolina concert 30 ...   \n",
       "35243  walking dead spoilers carl should fear the mar...   \n",
       "53679  justin bieber wild party with manziel tyrese m...   \n",
       "\n",
       "                                        Content_Parsed_5  \\\n",
       "59131    ikea us adopt new minimum hourly wage structure   \n",
       "108            bob geldof pay tribute to beautiful peach   \n",
       "2440   miley cyrus cancel north carolina concert 30 m...   \n",
       "35243  walk dead spoilers carl should fear the marauders   \n",
       "53679  justin bieber wild party with manziel tyrese m...   \n",
       "\n",
       "                                        Content_Parsed_6  \n",
       "59131    ikea us adopt new minimum hourly wage structure  \n",
       "108              bob geldof pay tribute  beautiful peach  \n",
       "2440   miley cyrus cancel north carolina concert 30 m...  \n",
       "35243           walk dead spoilers carl  fear  marauders  \n",
       "53679  justin bieber wild party  manziel tyrese maywe...  "
      ]
     },
     "execution_count": 38,
     "metadata": {},
     "output_type": "execute_result"
    }
   ],
   "source": [
    "X_train.head()"
   ]
  },
  {
   "cell_type": "code",
   "execution_count": 39,
   "metadata": {},
   "outputs": [],
   "source": [
    "def show_data_transformation(data,index):\n",
    "    print('Original data:')\n",
    "    print(data.iloc[index]['News Title'])\n",
    "    print()\n",
    "    print('After remove possesive pronouns:')\n",
    "    print(data.iloc[index]['Content_Parsed_1'])\n",
    "    print()\n",
    "    print('After remove special characters:')\n",
    "    print(data.iloc[index]['Content_Parsed_2'])\n",
    "    print()\n",
    "    print('After remove left special characters for 2nd times:')\n",
    "    print(data.iloc[index]['Content_Parsed_3'])\n",
    "    print()\n",
    "    print('After lower the text:')\n",
    "    print(data.iloc[index]['Content_Parsed_4'])\n",
    "    print()\n",
    "    print('After stemming and lemmatization:')\n",
    "    print(data.iloc[index]['Content_Parsed_5'])\n",
    "    print()\n",
    "    print('After remove stop words:')\n",
    "    print(data.iloc[index]['Content_Parsed_6'])\n",
    "    "
   ]
  },
  {
   "cell_type": "code",
   "execution_count": 40,
   "metadata": {},
   "outputs": [
    {
     "name": "stdout",
     "output_type": "stream",
     "text": [
      "Original data:\n",
      "Bob Geldof pays tribute to \"beautiful\" Peaches\n",
      "\n",
      "After remove possesive pronouns:\n",
      "Bob Geldof pays tribute to \"beautiful\" Peaches\n",
      "\n",
      "After remove special characters:\n",
      "Bob Geldof pays tribute to beautiful Peaches\n",
      "\n",
      "After remove left special characters for 2nd times:\n",
      "Bob Geldof pays tribute to beautiful Peaches\n",
      "\n",
      "After lower the text:\n",
      "bob geldof pays tribute to beautiful peaches\n",
      "\n",
      "After stemming and lemmatization:\n",
      "bob geldof pay tribute to beautiful peach\n",
      "\n",
      "After remove stop words:\n",
      "bob geldof pay tribute  beautiful peach\n"
     ]
    }
   ],
   "source": [
    "show_data_transformation(X_train,1)"
   ]
  },
  {
   "cell_type": "code",
   "execution_count": 41,
   "metadata": {},
   "outputs": [
    {
     "name": "stdout",
     "output_type": "stream",
     "text": [
      "Original data:\n",
      "Miley Cyrus Cancels North Carolina Concert 30 Minutes Before Start Time\n",
      "\n",
      "After remove possesive pronouns:\n",
      "Miley Cyrus Cancels North Carolina Concert 30 Minutes Before Start Time\n",
      "\n",
      "After remove special characters:\n",
      "Miley Cyrus Cancels North Carolina Concert 30 Minutes Before Start Time\n",
      "\n",
      "After remove left special characters for 2nd times:\n",
      "Miley Cyrus Cancels North Carolina Concert 30 Minutes Before Start Time\n",
      "\n",
      "After lower the text:\n",
      "miley cyrus cancels north carolina concert 30 minutes before start time\n",
      "\n",
      "After stemming and lemmatization:\n",
      "miley cyrus cancel north carolina concert 30 minutes before start time\n",
      "\n",
      "After remove stop words:\n",
      "miley cyrus cancel north carolina concert 30 minutes  start time\n"
     ]
    }
   ],
   "source": [
    "show_data_transformation(X_train,2)"
   ]
  },
  {
   "cell_type": "code",
   "execution_count": 42,
   "metadata": {},
   "outputs": [
    {
     "data": {
      "text/html": [
       "<div>\n",
       "<style scoped>\n",
       "    .dataframe tbody tr th:only-of-type {\n",
       "        vertical-align: middle;\n",
       "    }\n",
       "\n",
       "    .dataframe tbody tr th {\n",
       "        vertical-align: top;\n",
       "    }\n",
       "\n",
       "    .dataframe thead th {\n",
       "        text-align: right;\n",
       "    }\n",
       "</style>\n",
       "<table border=\"1\" class=\"dataframe\">\n",
       "  <thead>\n",
       "    <tr style=\"text-align: right;\">\n",
       "      <th></th>\n",
       "      <th>No</th>\n",
       "      <th>News Title</th>\n",
       "      <th>characters_length</th>\n",
       "      <th>Content_Parsed_1</th>\n",
       "      <th>Content_Parsed_2</th>\n",
       "      <th>Content_Parsed_3</th>\n",
       "      <th>Content_Parsed_4</th>\n",
       "      <th>Content_Parsed_5</th>\n",
       "      <th>Content_Parsed_6</th>\n",
       "    </tr>\n",
       "  </thead>\n",
       "  <tbody>\n",
       "    <tr>\n",
       "      <th>59131</th>\n",
       "      <td>59132</td>\n",
       "      <td>IKEA US Adopts New Minimum Hourly Wage Structure</td>\n",
       "      <td>48</td>\n",
       "      <td>IKEA US Adopts New Minimum Hourly Wage Structure</td>\n",
       "      <td>IKEA US Adopts New Minimum Hourly Wage Structure</td>\n",
       "      <td>IKEA US Adopts New Minimum Hourly Wage Structure</td>\n",
       "      <td>ikea us adopts new minimum hourly wage structure</td>\n",
       "      <td>ikea us adopt new minimum hourly wage structure</td>\n",
       "      <td>ikea us adopt new minimum hourly wage structure</td>\n",
       "    </tr>\n",
       "    <tr>\n",
       "      <th>108</th>\n",
       "      <td>109</td>\n",
       "      <td>Bob Geldof pays tribute to \"beautiful\" Peaches</td>\n",
       "      <td>46</td>\n",
       "      <td>Bob Geldof pays tribute to \"beautiful\" Peaches</td>\n",
       "      <td>Bob Geldof pays tribute to beautiful Peaches</td>\n",
       "      <td>Bob Geldof pays tribute to beautiful Peaches</td>\n",
       "      <td>bob geldof pays tribute to beautiful peaches</td>\n",
       "      <td>bob geldof pay tribute to beautiful peach</td>\n",
       "      <td>bob geldof pay tribute  beautiful peach</td>\n",
       "    </tr>\n",
       "    <tr>\n",
       "      <th>2440</th>\n",
       "      <td>2441</td>\n",
       "      <td>Miley Cyrus Cancels North Carolina Concert 30 ...</td>\n",
       "      <td>71</td>\n",
       "      <td>Miley Cyrus Cancels North Carolina Concert 30 ...</td>\n",
       "      <td>Miley Cyrus Cancels North Carolina Concert 30 ...</td>\n",
       "      <td>Miley Cyrus Cancels North Carolina Concert 30 ...</td>\n",
       "      <td>miley cyrus cancels north carolina concert 30 ...</td>\n",
       "      <td>miley cyrus cancel north carolina concert 30 m...</td>\n",
       "      <td>miley cyrus cancel north carolina concert 30 m...</td>\n",
       "    </tr>\n",
       "    <tr>\n",
       "      <th>35243</th>\n",
       "      <td>35244</td>\n",
       "      <td>Walking Dead spoilers: Carl should fear the Ma...</td>\n",
       "      <td>53</td>\n",
       "      <td>Walking Dead spoilers: Carl should fear the Ma...</td>\n",
       "      <td>Walking Dead spoilers: Carl should fear the Ma...</td>\n",
       "      <td>Walking Dead spoilers Carl should fear the Mar...</td>\n",
       "      <td>walking dead spoilers carl should fear the mar...</td>\n",
       "      <td>walk dead spoilers carl should fear the marauders</td>\n",
       "      <td>walk dead spoilers carl  fear  marauders</td>\n",
       "    </tr>\n",
       "    <tr>\n",
       "      <th>53679</th>\n",
       "      <td>53680</td>\n",
       "      <td>Justin Bieber's Wild Party With Manziel, Tyres...</td>\n",
       "      <td>77</td>\n",
       "      <td>Justin Bieber Wild Party With Manziel, Tyrese,...</td>\n",
       "      <td>Justin Bieber Wild Party With Manziel, Tyrese,...</td>\n",
       "      <td>Justin Bieber Wild Party With Manziel Tyrese M...</td>\n",
       "      <td>justin bieber wild party with manziel tyrese m...</td>\n",
       "      <td>justin bieber wild party with manziel tyrese m...</td>\n",
       "      <td>justin bieber wild party  manziel tyrese maywe...</td>\n",
       "    </tr>\n",
       "  </tbody>\n",
       "</table>\n",
       "</div>"
      ],
      "text/plain": [
       "          No                                         News Title  \\\n",
       "59131  59132   IKEA US Adopts New Minimum Hourly Wage Structure   \n",
       "108      109     Bob Geldof pays tribute to \"beautiful\" Peaches   \n",
       "2440    2441  Miley Cyrus Cancels North Carolina Concert 30 ...   \n",
       "35243  35244  Walking Dead spoilers: Carl should fear the Ma...   \n",
       "53679  53680  Justin Bieber's Wild Party With Manziel, Tyres...   \n",
       "\n",
       "       characters_length                                   Content_Parsed_1  \\\n",
       "59131                 48   IKEA US Adopts New Minimum Hourly Wage Structure   \n",
       "108                   46     Bob Geldof pays tribute to \"beautiful\" Peaches   \n",
       "2440                  71  Miley Cyrus Cancels North Carolina Concert 30 ...   \n",
       "35243                 53  Walking Dead spoilers: Carl should fear the Ma...   \n",
       "53679                 77  Justin Bieber Wild Party With Manziel, Tyrese,...   \n",
       "\n",
       "                                        Content_Parsed_2  \\\n",
       "59131   IKEA US Adopts New Minimum Hourly Wage Structure   \n",
       "108         Bob Geldof pays tribute to beautiful Peaches   \n",
       "2440   Miley Cyrus Cancels North Carolina Concert 30 ...   \n",
       "35243  Walking Dead spoilers: Carl should fear the Ma...   \n",
       "53679  Justin Bieber Wild Party With Manziel, Tyrese,...   \n",
       "\n",
       "                                        Content_Parsed_3  \\\n",
       "59131   IKEA US Adopts New Minimum Hourly Wage Structure   \n",
       "108         Bob Geldof pays tribute to beautiful Peaches   \n",
       "2440   Miley Cyrus Cancels North Carolina Concert 30 ...   \n",
       "35243  Walking Dead spoilers Carl should fear the Mar...   \n",
       "53679  Justin Bieber Wild Party With Manziel Tyrese M...   \n",
       "\n",
       "                                        Content_Parsed_4  \\\n",
       "59131   ikea us adopts new minimum hourly wage structure   \n",
       "108         bob geldof pays tribute to beautiful peaches   \n",
       "2440   miley cyrus cancels north carolina concert 30 ...   \n",
       "35243  walking dead spoilers carl should fear the mar...   \n",
       "53679  justin bieber wild party with manziel tyrese m...   \n",
       "\n",
       "                                        Content_Parsed_5  \\\n",
       "59131    ikea us adopt new minimum hourly wage structure   \n",
       "108            bob geldof pay tribute to beautiful peach   \n",
       "2440   miley cyrus cancel north carolina concert 30 m...   \n",
       "35243  walk dead spoilers carl should fear the marauders   \n",
       "53679  justin bieber wild party with manziel tyrese m...   \n",
       "\n",
       "                                        Content_Parsed_6  \n",
       "59131    ikea us adopt new minimum hourly wage structure  \n",
       "108              bob geldof pay tribute  beautiful peach  \n",
       "2440   miley cyrus cancel north carolina concert 30 m...  \n",
       "35243           walk dead spoilers carl  fear  marauders  \n",
       "53679  justin bieber wild party  manziel tyrese maywe...  "
      ]
     },
     "execution_count": 42,
     "metadata": {},
     "output_type": "execute_result"
    }
   ],
   "source": [
    "X_train.head()"
   ]
  },
  {
   "cell_type": "code",
   "execution_count": 43,
   "metadata": {},
   "outputs": [
    {
     "data": {
      "text/html": [
       "<div>\n",
       "<style scoped>\n",
       "    .dataframe tbody tr th:only-of-type {\n",
       "        vertical-align: middle;\n",
       "    }\n",
       "\n",
       "    .dataframe tbody tr th {\n",
       "        vertical-align: top;\n",
       "    }\n",
       "\n",
       "    .dataframe thead th {\n",
       "        text-align: right;\n",
       "    }\n",
       "</style>\n",
       "<table border=\"1\" class=\"dataframe\">\n",
       "  <thead>\n",
       "    <tr style=\"text-align: right;\">\n",
       "      <th></th>\n",
       "      <th>No</th>\n",
       "      <th>News Title</th>\n",
       "      <th>characters_length</th>\n",
       "      <th>Content_Parsed</th>\n",
       "    </tr>\n",
       "  </thead>\n",
       "  <tbody>\n",
       "    <tr>\n",
       "      <th>59131</th>\n",
       "      <td>59132</td>\n",
       "      <td>IKEA US Adopts New Minimum Hourly Wage Structure</td>\n",
       "      <td>48</td>\n",
       "      <td>ikea us adopt new minimum hourly wage structure</td>\n",
       "    </tr>\n",
       "    <tr>\n",
       "      <th>108</th>\n",
       "      <td>109</td>\n",
       "      <td>Bob Geldof pays tribute to \"beautiful\" Peaches</td>\n",
       "      <td>46</td>\n",
       "      <td>bob geldof pay tribute  beautiful peach</td>\n",
       "    </tr>\n",
       "    <tr>\n",
       "      <th>2440</th>\n",
       "      <td>2441</td>\n",
       "      <td>Miley Cyrus Cancels North Carolina Concert 30 ...</td>\n",
       "      <td>71</td>\n",
       "      <td>miley cyrus cancel north carolina concert 30 m...</td>\n",
       "    </tr>\n",
       "    <tr>\n",
       "      <th>35243</th>\n",
       "      <td>35244</td>\n",
       "      <td>Walking Dead spoilers: Carl should fear the Ma...</td>\n",
       "      <td>53</td>\n",
       "      <td>walk dead spoilers carl  fear  marauders</td>\n",
       "    </tr>\n",
       "    <tr>\n",
       "      <th>53679</th>\n",
       "      <td>53680</td>\n",
       "      <td>Justin Bieber's Wild Party With Manziel, Tyres...</td>\n",
       "      <td>77</td>\n",
       "      <td>justin bieber wild party  manziel tyrese maywe...</td>\n",
       "    </tr>\n",
       "  </tbody>\n",
       "</table>\n",
       "</div>"
      ],
      "text/plain": [
       "          No                                         News Title  \\\n",
       "59131  59132   IKEA US Adopts New Minimum Hourly Wage Structure   \n",
       "108      109     Bob Geldof pays tribute to \"beautiful\" Peaches   \n",
       "2440    2441  Miley Cyrus Cancels North Carolina Concert 30 ...   \n",
       "35243  35244  Walking Dead spoilers: Carl should fear the Ma...   \n",
       "53679  53680  Justin Bieber's Wild Party With Manziel, Tyres...   \n",
       "\n",
       "       characters_length                                     Content_Parsed  \n",
       "59131                 48    ikea us adopt new minimum hourly wage structure  \n",
       "108                   46            bob geldof pay tribute  beautiful peach  \n",
       "2440                  71  miley cyrus cancel north carolina concert 30 m...  \n",
       "35243                 53           walk dead spoilers carl  fear  marauders  \n",
       "53679                 77  justin bieber wild party  manziel tyrese maywe...  "
      ]
     },
     "execution_count": 43,
     "metadata": {},
     "output_type": "execute_result"
    }
   ],
   "source": [
    "X_train = X_train[features+['Content_Parsed_6']]\n",
    "X_train = X_train.rename(columns={'Content_Parsed_6': 'Content_Parsed'})\n",
    "\n",
    "X_test = X_test[features+['Content_Parsed_6']]\n",
    "X_test = X_test.rename(columns={'Content_Parsed_6': 'Content_Parsed'})\n",
    "\n",
    "\n",
    "X_train.head()"
   ]
  },
  {
   "cell_type": "code",
   "execution_count": 49,
   "metadata": {},
   "outputs": [],
   "source": [
    "tmp_df = pd.concat([X_train, y_train], axis=1)"
   ]
  },
  {
   "cell_type": "code",
   "execution_count": 50,
   "metadata": {},
   "outputs": [
    {
     "data": {
      "text/plain": [
       "[('new', 3047),\n",
       " ('us', 2260),\n",
       " ('say', 1522),\n",
       " ('google', 1498),\n",
       " ('apple', 1268),\n",
       " ('get', 1264),\n",
       " ('-', 1167),\n",
       " ('report', 1133),\n",
       " ('star', 1098),\n",
       " ('show', 1081)]"
      ]
     },
     "execution_count": 50,
     "metadata": {},
     "output_type": "execute_result"
    }
   ],
   "source": [
    "Counter(\" \".join(tmp_df[\"Content_Parsed\"]).split()).most_common(10)"
   ]
  },
  {
   "cell_type": "code",
   "execution_count": 51,
   "metadata": {},
   "outputs": [
    {
     "data": {
      "text/plain": [
       "[('google', 1386),\n",
       " ('apple', 1148),\n",
       " ('new', 1010),\n",
       " ('samsung', 940),\n",
       " ('microsoft', 726),\n",
       " ('galaxy', 718),\n",
       " ('facebook', 701),\n",
       " ('launch', 545),\n",
       " ('android', 530),\n",
       " ('one', 505)]"
      ]
     },
     "execution_count": 51,
     "metadata": {},
     "output_type": "execute_result"
    }
   ],
   "source": [
    "Counter(\" \".join(tmp_df[tmp_df['Category']=='Technology'][\"Content_Parsed\"]).split()).most_common(10)"
   ]
  },
  {
   "cell_type": "code",
   "execution_count": 53,
   "metadata": {},
   "outputs": [
    {
     "data": {
      "text/plain": [
       "[('us', 1289),\n",
       " ('stock', 733),\n",
       " ('new', 569),\n",
       " ('china', 554),\n",
       " ('price', 485),\n",
       " ('say', 475),\n",
       " ('bank', 462),\n",
       " ('market', 455),\n",
       " ('rise', 447),\n",
       " ('deal', 428)]"
      ]
     },
     "execution_count": 53,
     "metadata": {},
     "output_type": "execute_result"
    }
   ],
   "source": [
    "Counter(\" \".join(tmp_df[tmp_df['Category']=='Business'][\"Content_Parsed\"]).split()).most_common(10)"
   ]
  },
  {
   "cell_type": "code",
   "execution_count": 54,
   "metadata": {},
   "outputs": [
    {
     "data": {
      "text/plain": [
       "[('new', 1164),\n",
       " ('star', 1027),\n",
       " ('kardashian', 731),\n",
       " ('kim', 724),\n",
       " ('show', 672),\n",
       " ('season', 659),\n",
       " ('get', 610),\n",
       " ('2014', 593),\n",
       " ('game', 578),\n",
       " ('video', 573)]"
      ]
     },
     "execution_count": 54,
     "metadata": {},
     "output_type": "execute_result"
    }
   ],
   "source": [
    "Counter(\" \".join(tmp_df[tmp_df['Category']=='Entertainment'][\"Content_Parsed\"]).split()).most_common(10)"
   ]
  },
  {
   "cell_type": "code",
   "execution_count": 56,
   "metadata": {},
   "outputs": [
    {
     "data": {
      "text/plain": [
       "[('ebola', 476),\n",
       " ('study', 434),\n",
       " ('cancer', 352),\n",
       " ('health', 337),\n",
       " ('new', 304),\n",
       " ('us', 272),\n",
       " ('may', 272),\n",
       " ('say', 258),\n",
       " ('mers', 239),\n",
       " ('virus', 237)]"
      ]
     },
     "execution_count": 56,
     "metadata": {},
     "output_type": "execute_result"
    }
   ],
   "source": [
    "Counter(\" \".join(tmp_df[tmp_df['Category']=='Medical'][\"Content_Parsed\"]).split()).most_common(10)"
   ]
  },
  {
   "cell_type": "markdown",
   "metadata": {},
   "source": [
    "<b>Data looks more make sense after data cleaning.</b>"
   ]
  },
  {
   "cell_type": "markdown",
   "metadata": {},
   "source": [
    "# Label Encoding\n",
    "\n",
    "Encode the target feature"
   ]
  },
  {
   "cell_type": "code",
   "execution_count": 57,
   "metadata": {},
   "outputs": [],
   "source": [
    "label_encoders = {}"
   ]
  },
  {
   "cell_type": "code",
   "execution_count": 58,
   "metadata": {},
   "outputs": [],
   "source": [
    "label_encoders[target] = LabelEncoder()        \n",
    "label_encoders[target].fit(y_train)  \n",
    "\n",
    "y_train = label_encoders[target].transform(y_train)\n",
    "y_test = label_encoders[target].transform(y_test)"
   ]
  },
  {
   "cell_type": "code",
   "execution_count": 60,
   "metadata": {},
   "outputs": [],
   "source": [
    "# filename = 'news_data/news_label_encoders.pickle'\n",
    "# save_as_pickle(filename,label_encoders)"
   ]
  },
  {
   "cell_type": "markdown",
   "metadata": {},
   "source": [
    "# Text representation\n",
    "\n",
    "Convert text into features"
   ]
  },
  {
   "cell_type": "code",
   "execution_count": 61,
   "metadata": {},
   "outputs": [],
   "source": [
    "count_vect = CountVectorizer()\n",
    "X_train_counts = count_vect.fit_transform(X_train['Content_Parsed'])\n",
    "X_test_counts = count_vect.transform(X_test['Content_Parsed'])\n",
    "\n",
    "tfidf_transformer = TfidfTransformer()\n",
    "X_train_tfidf = tfidf_transformer.fit_transform(X_train_counts)\n",
    "X_test_tfidf = tfidf_transformer.fit_transform(X_test_counts)"
   ]
  },
  {
   "cell_type": "code",
   "execution_count": 80,
   "metadata": {},
   "outputs": [],
   "source": [
    "# tfidf_df = pd.DataFrame(X_train_tfidf.todense(), columns=count_vect.get_feature_names())"
   ]
  },
  {
   "cell_type": "code",
   "execution_count": 63,
   "metadata": {},
   "outputs": [],
   "source": [
    "# filename = 'news_data/count_vect.pickle'\n",
    "# save_as_pickle(filename,count_vect)\n",
    "\n",
    "# filename = 'news_data/tfidf_transformer.pickle'\n",
    "# save_as_pickle(filename,tfidf_transformer)\n"
   ]
  },
  {
   "cell_type": "markdown",
   "metadata": {},
   "source": [
    "# Model Building"
   ]
  },
  {
   "cell_type": "code",
   "execution_count": 64,
   "metadata": {},
   "outputs": [
    {
     "name": "stdout",
     "output_type": "stream",
     "text": [
      "Parameters currently in use:\n",
      "\n",
      "{'bootstrap': True,\n",
      " 'ccp_alpha': 0.0,\n",
      " 'class_weight': None,\n",
      " 'criterion': 'gini',\n",
      " 'max_depth': None,\n",
      " 'max_features': 'auto',\n",
      " 'max_leaf_nodes': None,\n",
      " 'max_samples': None,\n",
      " 'min_impurity_decrease': 0.0,\n",
      " 'min_impurity_split': None,\n",
      " 'min_samples_leaf': 1,\n",
      " 'min_samples_split': 2,\n",
      " 'min_weight_fraction_leaf': 0.0,\n",
      " 'n_estimators': 100,\n",
      " 'n_jobs': None,\n",
      " 'oob_score': False,\n",
      " 'random_state': 42,\n",
      " 'verbose': 0,\n",
      " 'warm_start': False}\n"
     ]
    }
   ],
   "source": [
    "rf = RandomForestClassifier(random_state = 42)\n",
    "\n",
    "print('Parameters currently in use:\\n')\n",
    "pprint(rf.get_params())"
   ]
  },
  {
   "cell_type": "code",
   "execution_count": 65,
   "metadata": {},
   "outputs": [],
   "source": [
    "rf.fit(X_train_tfidf, y_train)\n",
    "predictions = rf.predict(X_test_tfidf)"
   ]
  },
  {
   "cell_type": "code",
   "execution_count": 66,
   "metadata": {},
   "outputs": [
    {
     "name": "stdout",
     "output_type": "stream",
     "text": [
      "[[3135  199   58  215]\n",
      " [ 112 4587   42   61]\n",
      " [ 122  152 1123   31]\n",
      " [ 247  174   35 2814]]\n",
      "Accuracy: 0.8895246814679179\n",
      "              precision    recall  f1-score   support\n",
      "\n",
      "           0       0.87      0.87      0.87      3607\n",
      "           1       0.90      0.96      0.93      4802\n",
      "           2       0.89      0.79      0.84      1428\n",
      "           3       0.90      0.86      0.88      3270\n",
      "\n",
      "    accuracy                           0.89     13107\n",
      "   macro avg       0.89      0.87      0.88     13107\n",
      "weighted avg       0.89      0.89      0.89     13107\n",
      "\n"
     ]
    }
   ],
   "source": [
    "print(confusion_matrix(y_test, predictions))\n",
    "print(\"Accuracy:\",accuracy_score(y_test, predictions))\n",
    "print(classification_report(y_test, predictions))"
   ]
  },
  {
   "cell_type": "code",
   "execution_count": 82,
   "metadata": {},
   "outputs": [],
   "source": [
    "# importances = rf.feature_importances_\n",
    "# indices = np.argsort(importances)\n",
    "\n",
    "# plt.figure(figsize=(12,10))\n",
    "# plt.title('Feature Importances')\n",
    "# plt.barh(range(len(indices)), importances[indices], color='b', align='center')\n",
    "# plt.yticks(range(len(indices)), [count_vect.get_feature_names()[i] for i in indices])\n",
    "# plt.xlabel('Relative Importance')\n",
    "# plt.show()"
   ]
  },
  {
   "cell_type": "code",
   "execution_count": 67,
   "metadata": {},
   "outputs": [],
   "source": [
    "# filename = 'news_data/rf.pickle'\n",
    "# save_as_pickle(filename,rf)"
   ]
  },
  {
   "cell_type": "markdown",
   "metadata": {},
   "source": [
    "# SMOTE / Class Weighted "
   ]
  },
  {
   "cell_type": "code",
   "execution_count": 68,
   "metadata": {},
   "outputs": [],
   "source": [
    "smote = SMOTE()\n",
    "X_sm, y_sm = smote.fit_sample(X_train_tfidf, y_train)"
   ]
  },
  {
   "cell_type": "code",
   "execution_count": 69,
   "metadata": {},
   "outputs": [
    {
     "data": {
      "text/plain": [
       "RandomForestClassifier(bootstrap=True, ccp_alpha=0.0, class_weight=None,\n",
       "                       criterion='gini', max_depth=None, max_features='auto',\n",
       "                       max_leaf_nodes=None, max_samples=None,\n",
       "                       min_impurity_decrease=0.0, min_impurity_split=None,\n",
       "                       min_samples_leaf=1, min_samples_split=2,\n",
       "                       min_weight_fraction_leaf=0.0, n_estimators=100,\n",
       "                       n_jobs=None, oob_score=False, random_state=42, verbose=0,\n",
       "                       warm_start=False)"
      ]
     },
     "execution_count": 69,
     "metadata": {},
     "output_type": "execute_result"
    }
   ],
   "source": [
    "rf_ = RandomForestClassifier(random_state=42)\n",
    "rf_.fit(X_sm, y_sm)"
   ]
  },
  {
   "cell_type": "code",
   "execution_count": 70,
   "metadata": {},
   "outputs": [],
   "source": [
    "predictions = rf_.predict(X_test_tfidf)"
   ]
  },
  {
   "cell_type": "code",
   "execution_count": 71,
   "metadata": {},
   "outputs": [
    {
     "name": "stdout",
     "output_type": "stream",
     "text": [
      "[[3099  202   78  228]\n",
      " [ 114 4555   69   64]\n",
      " [ 108  124 1172   24]\n",
      " [ 242  171   50 2807]]\n",
      "Accuracy: 0.8875410086213473\n",
      "              precision    recall  f1-score   support\n",
      "\n",
      "           0       0.87      0.86      0.86      3607\n",
      "           1       0.90      0.95      0.92      4802\n",
      "           2       0.86      0.82      0.84      1428\n",
      "           3       0.90      0.86      0.88      3270\n",
      "\n",
      "    accuracy                           0.89     13107\n",
      "   macro avg       0.88      0.87      0.88     13107\n",
      "weighted avg       0.89      0.89      0.89     13107\n",
      "\n"
     ]
    }
   ],
   "source": [
    "print(confusion_matrix(y_test, predictions))\n",
    "print(\"Accuracy:\",accuracy_score(y_test, predictions))\n",
    "print(classification_report(y_test, predictions))"
   ]
  },
  {
   "cell_type": "code",
   "execution_count": 72,
   "metadata": {},
   "outputs": [],
   "source": [
    "# filename = 'news_data/rf_.pickle'\n",
    "# save_as_pickle(filename,rf_)"
   ]
  },
  {
   "cell_type": "code",
   "execution_count": 83,
   "metadata": {},
   "outputs": [],
   "source": [
    "# importances = rf_.feature_importances_\n",
    "# indices = np.argsort(importances)\n",
    "\n",
    "# plt.figure(figsize=(12,10))\n",
    "# plt.title('Feature Importances')\n",
    "# plt.barh(range(len(indices)), importances[indices], color='b', align='center')\n",
    "# plt.yticks(range(len(indices)), [feature_names[i] for i in indices])\n",
    "# plt.xlabel('Relative Importance')\n",
    "# plt.show()"
   ]
  },
  {
   "cell_type": "markdown",
   "metadata": {},
   "source": [
    "<b>Upsampling the data does not bring too much impact.</b>"
   ]
  },
  {
   "cell_type": "code",
   "execution_count": null,
   "metadata": {},
   "outputs": [],
   "source": []
  }
 ],
 "metadata": {
  "kernelspec": {
   "display_name": "Python 3",
   "language": "python",
   "name": "python3"
  },
  "language_info": {
   "codemirror_mode": {
    "name": "ipython",
    "version": 3
   },
   "file_extension": ".py",
   "mimetype": "text/x-python",
   "name": "python",
   "nbconvert_exporter": "python",
   "pygments_lexer": "ipython3",
   "version": "3.7.6"
  }
 },
 "nbformat": 4,
 "nbformat_minor": 4
}
